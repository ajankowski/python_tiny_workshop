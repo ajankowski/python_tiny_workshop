{
  "nbformat": 4,
  "nbformat_minor": 0,
  "metadata": {
    "colab": {
      "name": "Python_w_10_lat.ipynb",
      "provenance": [],
      "private_outputs": true,
      "collapsed_sections": [],
      "toc_visible": true,
      "include_colab_link": true
    },
    "language_info": {
      "codemirror_mode": {
        "name": "ipython",
        "version": 3
      },
      "file_extension": ".py",
      "mimetype": "text/x-python",
      "name": "python",
      "nbconvert_exporter": "python",
      "pygments_lexer": "ipython3",
      "version": "3.6.5"
    },
    "kernelspec": {
      "name": "python3",
      "display_name": "Python 3"
    }
  },
  "cells": [
    {
      "cell_type": "markdown",
      "metadata": {
        "id": "view-in-github",
        "colab_type": "text"
      },
      "source": [
        "<a href=\"https://colab.research.google.com/github/ajankowski/python_tiny_workshop/blob/master/Python_w_10_lat.ipynb\" target=\"_parent\"><img src=\"https://colab.research.google.com/assets/colab-badge.svg\" alt=\"Open In Colab\"/></a>"
      ]
    },
    {
      "cell_type": "markdown",
      "metadata": {
        "id": "JyD4QFSkHwz3",
        "colab_type": "text"
      },
      "source": [
        "devcloud"
      ]
    },
    {
      "cell_type": "markdown",
      "metadata": {
        "id": "5zk32T8F0Bbj",
        "colab_type": "text"
      },
      "source": [
        "<img src=\"https://www.python.org/static/community_logos/python-logo-master-v3-TM.png\" align=\"center\" width='500'>\n",
        "\n",
        "# Python\n",
        "to jeden z najpopularniejszych i najlatwiejszych do nauczenia się języków programowania.  \n",
        "Kod w języku Python jest krótki i czytelny, nie pozostawia wątpliwości co do sposobu działania.  \n",
        "Dodatkowy bonus - jest to język nauki i sztucznej inteligencji :-)"
      ]
    },
    {
      "cell_type": "markdown",
      "metadata": {
        "id": "bP9DSAAY0Bbl",
        "colab_type": "text"
      },
      "source": [
        "## Syntax (gramatyka Pythona)\n",
        "- Bloki kodu oddzielone są wcięciami (stosuje się 4 spacje, nie jest to konieczne, ale musimy być konsekwentni, tzn. kolejne wcięcia muszą być takie same, linia bez wcięcia znajdować się będzie poza blokiem).\n",
        "- Wyrażenia które wymagają wcięć zakończone są dwukropkiem **:**\n",
        "- Ważna jest wielkość liter.\n",
        "- Komentarze w kodzie zaczynamy od znaku #"
      ]
    },
    {
      "cell_type": "code",
      "metadata": {
        "id": "zDV7Nwc89PpW",
        "colab_type": "code",
        "colab": {}
      },
      "source": [
        "print('hello world')"
      ],
      "execution_count": 0,
      "outputs": []
    },
    {
      "cell_type": "markdown",
      "metadata": {
        "id": "zX5CSbGx0Bbn",
        "colab_type": "text"
      },
      "source": [
        "# Zmienne\n",
        "Zmienna = miejsce, gdzie komputer przechowuje dane  \n",
        "Zmienne przypisujemy do nazw znakiem rowności **=** , a testujemy czy dane są równe znakiem **==**"
      ]
    },
    {
      "cell_type": "code",
      "metadata": {
        "id": "AFeV6xAK0Bbq",
        "colab_type": "code",
        "colab": {}
      },
      "source": [
        "kot = 3\n",
        "pies = 7\n"
      ],
      "execution_count": 0,
      "outputs": []
    },
    {
      "cell_type": "code",
      "metadata": {
        "scrolled": true,
        "id": "_COkZ9ns0Bbz",
        "colab_type": "code",
        "colab": {}
      },
      "source": [
        "kot + pies"
      ],
      "execution_count": 0,
      "outputs": []
    },
    {
      "cell_type": "code",
      "metadata": {
        "id": "RMfMdSAk0Bb_",
        "colab_type": "code",
        "colab": {}
      },
      "source": [
        "kot == 3\n",
        "# kot == pies"
      ],
      "execution_count": 0,
      "outputs": []
    },
    {
      "cell_type": "code",
      "metadata": {
        "id": "L5nlcdr10BcI",
        "colab_type": "code",
        "colab": {}
      },
      "source": [
        "# wszystko od '#' do końca wiersza to komentarz (Python go pomija)\n",
        "napis_1 = 'hallo'\n",
        "napis_2 = \"world!\"\n",
        "\n",
        "napis_3 = napis_1 + napis_2 # komentarz może zacząć się nie-na-początku wiersza"
      ],
      "execution_count": 0,
      "outputs": []
    },
    {
      "cell_type": "code",
      "metadata": {
        "scrolled": true,
        "id": "nED5KZiX0BcO",
        "colab_type": "code",
        "colab": {}
      },
      "source": [
        "print(napis_3)"
      ],
      "execution_count": 0,
      "outputs": []
    },
    {
      "cell_type": "markdown",
      "metadata": {
        "id": "wqOuEgaX5mx8",
        "colab_type": "text"
      },
      "source": [
        "Operator | Operation | Example | Evaluates to . . .\n",
        "---|---|---|---|\n",
        "** | Exponent | 2 ** 3 | 8\n",
        " % | Modulus | 22 % 8 | 6\n",
        "// | Integer division | 22 // 8 | 2\n",
        "/  | Division | 22 / 8 | 2.75\n",
        "* | Multiplication | 3 * 5 | 15\n",
        "- | Subtraction | 5 - 2 | 3\n",
        "+ | Addition | 2 + 2 | 4"
      ]
    },
    {
      "cell_type": "code",
      "metadata": {
        "id": "N7GSXAsQ7-HN",
        "colab_type": "code",
        "colab": {}
      },
      "source": [
        "# mozemy sprawdzić czy jakaś liczba dzieli sie przez inną \n",
        "8%3"
      ],
      "execution_count": 0,
      "outputs": []
    },
    {
      "cell_type": "code",
      "metadata": {
        "id": "kLz9oacR8YzS",
        "colab_type": "code",
        "colab": {}
      },
      "source": [
        "print('reszta z dzielenia 8/3 -> ' + str(8%3))"
      ],
      "execution_count": 0,
      "outputs": []
    },
    {
      "cell_type": "code",
      "metadata": {
        "scrolled": true,
        "id": "lc4Gr9zs0BdP",
        "colab_type": "code",
        "colab": {}
      },
      "source": [
        "imie = input('jak masz na imie? ')\n",
        "print('hej '+ imie)"
      ],
      "execution_count": 0,
      "outputs": []
    },
    {
      "cell_type": "markdown",
      "metadata": {
        "id": "LQ5gCc740BdW",
        "colab_type": "text"
      },
      "source": [
        "### Ćwiczenia\n",
        "\n",
        "Poproś uzytkownika o wprowadzenie jakiejś cyfry i wydrukuj wynik mnożenia jej przez 3"
      ]
    },
    {
      "cell_type": "code",
      "metadata": {
        "colab_type": "code",
        "id": "E5VgrnBQ-5hV",
        "colab": {}
      },
      "source": [
        "# ćwiczenie\n"
      ],
      "execution_count": 0,
      "outputs": []
    },
    {
      "cell_type": "markdown",
      "metadata": {
        "colab_type": "text",
        "id": "F8OpGPAlM8nq"
      },
      "source": [
        "### Ćwiczenia\n",
        "\n",
        "Poproś uzytkownika o wprowadzenie imienia i wieku, odpowiedz mu w którym roku będzie miał 100 lat.  \n",
        "\n",
        "Oczekiwany wynik dla Bartka, 33 lata:  \n",
        "'Bartek będziesz miał sto lat w 2053 roku'"
      ]
    },
    {
      "cell_type": "code",
      "metadata": {
        "colab_type": "code",
        "id": "hAwIJN6xM9_C",
        "colab": {}
      },
      "source": [
        "# ćwiczenie"
      ],
      "execution_count": 0,
      "outputs": []
    },
    {
      "cell_type": "markdown",
      "metadata": {
        "id": "l6kDWT4N0BcZ",
        "colab_type": "text"
      },
      "source": [
        "# Typy danych\n",
        "\n",
        "W pythonie mamy dostępne kilka typów danych, podstawowe z nich to:   \n",
        "- *int* - (integer) -liczby całkowite:  -99, -98,..., -2, -1, 0, 1, 2, ..., 98  \n",
        "- *float* - floating point -liczby rzeczywiste (zmiennoprzecinkowe):  0.2, 3.14, -0.8897  \n",
        "- *str* - tekst (string), tekstem jest dowolne wyrażenie w cudzysłowie pojedynczym lub podwójnym: 'python' lub \"python\""
      ]
    },
    {
      "cell_type": "code",
      "metadata": {
        "id": "JX4WNUeM0Bca",
        "colab_type": "code",
        "colab": {}
      },
      "source": [
        "liczba_calkowita = 6\n",
        "liczba_rzeczywista = 0.56"
      ],
      "execution_count": 0,
      "outputs": []
    },
    {
      "cell_type": "code",
      "metadata": {
        "id": "1qRcU4-Y0Bcg",
        "colab_type": "code",
        "colab": {}
      },
      "source": [
        "type(liczba_calkowita)\n",
        "type(liczba_rzeczywista)"
      ],
      "execution_count": 0,
      "outputs": []
    },
    {
      "cell_type": "code",
      "metadata": {
        "id": "KD9DauLR0Bcq",
        "colab_type": "code",
        "colab": {}
      },
      "source": [
        "napis = 'kuble'"
      ],
      "execution_count": 0,
      "outputs": []
    },
    {
      "cell_type": "code",
      "metadata": {
        "scrolled": true,
        "id": "4HNZQwTn0Bcx",
        "colab_type": "code",
        "colab": {}
      },
      "source": [
        "type(napis)"
      ],
      "execution_count": 0,
      "outputs": []
    },
    {
      "cell_type": "code",
      "metadata": {
        "id": "n94zQQDx0Bc4",
        "colab_type": "code",
        "colab": {}
      },
      "source": [
        "napis[1:4]"
      ],
      "execution_count": 0,
      "outputs": []
    },
    {
      "cell_type": "code",
      "metadata": {
        "id": "gd1RHweT0BdA",
        "colab_type": "code",
        "colab": {}
      },
      "source": [
        "n = 'ala ma kota'\n",
        "len(n) # liczba znaków w tekście"
      ],
      "execution_count": 0,
      "outputs": []
    },
    {
      "cell_type": "code",
      "metadata": {
        "id": "3gYnr4l90BdI",
        "colab_type": "code",
        "colab": {}
      },
      "source": [
        "n.split()"
      ],
      "execution_count": 0,
      "outputs": []
    },
    {
      "cell_type": "markdown",
      "metadata": {
        "id": "nupos-OT_qxM",
        "colab_type": "text"
      },
      "source": [
        "### Ćwiczenia\n",
        "Sprawdź co się stanie jeśli dodasz do siebie dwa słowa"
      ]
    },
    {
      "cell_type": "code",
      "metadata": {
        "colab_type": "code",
        "id": "AeKGwHD3AVH-",
        "colab": {}
      },
      "source": [
        "# ćwiczenie\n"
      ],
      "execution_count": 0,
      "outputs": []
    },
    {
      "cell_type": "markdown",
      "metadata": {
        "colab_type": "text",
        "id": "KSKRjbLh_9xN"
      },
      "source": [
        "### Ćwiczenia\n",
        "Oddziel typ pliku od jego nazwy np.  \n",
        "obrazek.jpg > jpg\n",
        "dane.xlsx > xlsx"
      ]
    },
    {
      "cell_type": "code",
      "metadata": {
        "colab_type": "code",
        "id": "kaIPNIleAVxe",
        "colab": {}
      },
      "source": [
        "# ćwiczenie\n"
      ],
      "execution_count": 0,
      "outputs": []
    },
    {
      "cell_type": "markdown",
      "metadata": {
        "id": "Hq7k1dXT0Bdb",
        "colab_type": "text"
      },
      "source": [
        "# Struktury danych w Pythonie\n",
        "- listy - grupują wartości dowolnego typu (tekst, liczby, inne listy, ....)\n",
        "    - tworzymy je uzywając kwadratowych nawiasow []\n",
        "- tuples (krotki) - działają tak jak listy, ale sa niezmienialne (immutable)\n",
        "    - tworzymy je uzywając nawiasów okrąglych () \n"
      ]
    },
    {
      "cell_type": "markdown",
      "metadata": {
        "id": "ucaxKPNJ0Bdd",
        "colab_type": "text"
      },
      "source": [
        "- slowniki - grupują wartości typu klucz-wartość\n",
        "    - tworzymy je używając nawiasów {}\n",
        "- sety\n",
        "    - tworzone przy uzyciu słowa kluczowego **set**\n",
        "    - używamy nawiasów **{}**\n",
        "\n",
        "Metody dostepne w przypadku struktur danych sa w wiekszosci wypadkow podobne.\n",
        "Na przydlad len() pokaże nam dlugość zarówno listy, tupli jak i setu."
      ]
    },
    {
      "cell_type": "markdown",
      "metadata": {
        "id": "AnL8AjLO0Bdg",
        "colab_type": "text"
      },
      "source": [
        "## Listy i tuple"
      ]
    },
    {
      "cell_type": "code",
      "metadata": {
        "id": "3PITxa-L0Bdj",
        "colab_type": "code",
        "colab": {}
      },
      "source": [
        "lista = [] #pusta lista\n",
        "lista_2 = [3, [\"inna\", \"lista\"],\"a\", lista]"
      ],
      "execution_count": 0,
      "outputs": []
    },
    {
      "cell_type": "code",
      "metadata": {
        "id": "Di-_qmOs0Bd_",
        "colab_type": "code",
        "colab": {}
      },
      "source": [
        "lista.append(15)\n",
        "lista.append('slowo')\n",
        "lista"
      ],
      "execution_count": 0,
      "outputs": []
    },
    {
      "cell_type": "code",
      "metadata": {
        "scrolled": true,
        "id": "5STPVhhI0BeQ",
        "colab_type": "code",
        "colab": {}
      },
      "source": [
        "# możemy wybrać jeden lub więcej elementów z listy\n",
        "lista_2[0] "
      ],
      "execution_count": 0,
      "outputs": []
    },
    {
      "cell_type": "code",
      "metadata": {
        "id": "UMfTTbV50Bds",
        "colab_type": "code",
        "colab": {}
      },
      "source": [
        "tupla = (3, 7, 9)"
      ],
      "execution_count": 0,
      "outputs": []
    },
    {
      "cell_type": "code",
      "metadata": {
        "scrolled": true,
        "id": "h91a1aH00Bdy",
        "colab_type": "code",
        "colab": {}
      },
      "source": [
        "#roznice miedzyy listą i tuplą - tupli nie można zmienic\n",
        "tupla.append(10)"
      ],
      "execution_count": 0,
      "outputs": []
    },
    {
      "cell_type": "code",
      "metadata": {
        "id": "Tqcdn6Z40BeY",
        "colab_type": "code",
        "colab": {}
      },
      "source": [
        "\"\"\"Dostęp do elementów listy lub tupli mamy uzywając ich indeksow w nawiasach [],  \n",
        "lub tnąc liste na kawałki używająć indeksów w nawiasach [] i ':' \n",
        "\"\"\"\"\"\n",
        "lista_3  = [\"zmienna_1\", 2, 3.14]\n",
        "\n",
        "print(lista_3[0])   # elementy listy numerujemy od '0'\n",
        "print(lista_3[0:2])\n",
        "print(lista_3[-1])\n",
        "print(lista_3[1:])\n",
        "print(lista_3[::2])\n",
        "print(len(lista_3))  # dlugosc listy"
      ],
      "execution_count": 0,
      "outputs": []
    },
    {
      "cell_type": "code",
      "metadata": {
        "scrolled": true,
        "id": "yD3sh6K00Bef",
        "colab_type": "code",
        "colab": {}
      },
      "source": [
        "# po liście można też iterować for -- dostajemy wtedy jej elementy\n",
        "for element in lista_3:\n",
        "    print(element)"
      ],
      "execution_count": 0,
      "outputs": []
    },
    {
      "cell_type": "code",
      "metadata": {
        "id": "rm3MzcY-0Bem",
        "colab_type": "code",
        "colab": {}
      },
      "source": [
        "# lista list\n",
        "koszyk = [['mleko', 'ser'], ['chleb', 'bulki','rogaliki'], [3, 7, 6]]"
      ],
      "execution_count": 0,
      "outputs": []
    },
    {
      "cell_type": "code",
      "metadata": {
        "scrolled": true,
        "id": "XLNoaRum0Bez",
        "colab_type": "code",
        "colab": {}
      },
      "source": [
        "koszyk[1][0]"
      ],
      "execution_count": 0,
      "outputs": []
    },
    {
      "cell_type": "markdown",
      "metadata": {
        "id": "KZxh_1Ds0Be6",
        "colab_type": "text"
      },
      "source": [
        "### Ćwiczenia\n",
        "stwórz listę zadań do wykonania i wydrukuj jej trzeci element"
      ]
    },
    {
      "cell_type": "code",
      "metadata": {
        "colab_type": "code",
        "id": "HkeV-tDt_P1J",
        "colab": {}
      },
      "source": [
        "# ćwiczenie\n"
      ],
      "execution_count": 0,
      "outputs": []
    },
    {
      "cell_type": "markdown",
      "metadata": {
        "id": "4prQP1Gz0BcX",
        "colab_type": "text"
      },
      "source": [
        "### Ćwiczenia\n",
        "\n",
        "Napisz listę zakupow z cenami produktów, a nastepnie policz i wyswietl całkowity koszt.  \n",
        "burak 2  \n",
        "kaczka 4.5  \n",
        "total 6.5"
      ]
    },
    {
      "cell_type": "code",
      "metadata": {
        "id": "QpZbvIja-yVa",
        "colab_type": "code",
        "colab": {}
      },
      "source": [
        "# ćwiczenie\n"
      ],
      "execution_count": 0,
      "outputs": []
    },
    {
      "cell_type": "markdown",
      "metadata": {
        "id": "FnRL3SUr0Be7",
        "colab_type": "text"
      },
      "source": [
        "## Słowniki"
      ]
    },
    {
      "cell_type": "code",
      "metadata": {
        "id": "11fd8Id40Be9",
        "colab_type": "code",
        "colab": {}
      },
      "source": [
        "slownik= {}  #pusty slownik\n",
        "slownik = dict()  #pusty slownik\n",
        "\n",
        "slownik = {\"klucz\": \"zmienna\", 2: 3, \"pi\": 3.14}\n",
        "slownik['klucz']"
      ],
      "execution_count": 0,
      "outputs": []
    },
    {
      "cell_type": "code",
      "metadata": {
        "id": "nIpN_uiB0BfF",
        "colab_type": "code",
        "colab": {}
      },
      "source": [
        "slownik[\"pi\"] = 3.15 #tak zmieniamy wartosc zmiennych w slowniku\n",
        "slownik['pi']"
      ],
      "execution_count": 0,
      "outputs": []
    },
    {
      "cell_type": "code",
      "metadata": {
        "id": "pfThJVSqCtVD",
        "colab_type": "code",
        "colab": {}
      },
      "source": [
        "import requests\n",
        "response = requests.get('http://api.nbp.pl/api/exchangerates/rates/a/chf/')\n",
        "response.json()"
      ],
      "execution_count": 0,
      "outputs": []
    },
    {
      "cell_type": "markdown",
      "metadata": {
        "id": "j7rxX9x7Cqq4",
        "colab_type": "text"
      },
      "source": [
        "### Ćwiczenia\n",
        "wydrukuj symbol waluty, datę i  jej kurs:\n",
        "\n",
        "USD, 2020-04-02, 3.85\n"
      ]
    },
    {
      "cell_type": "code",
      "metadata": {
        "colab_type": "code",
        "id": "Zx-6h3S4_OdJ",
        "colab": {}
      },
      "source": [
        "# ćwiczenie\n"
      ],
      "execution_count": 0,
      "outputs": []
    },
    {
      "cell_type": "markdown",
      "metadata": {
        "id": "PwUzKsxi0BfL",
        "colab_type": "text"
      },
      "source": [
        "# Instrukcje sterujące\n",
        "- if\n",
        "- for \n",
        "- while "
      ]
    },
    {
      "cell_type": "code",
      "metadata": {
        "scrolled": true,
        "id": "SA0uXNFR0BfN",
        "colab_type": "code",
        "colab": {}
      },
      "source": [
        "# możemy użyć funkcji range(n), żeby wygenerować ciąg kolejnych liczb\n",
        "for liczba in range(5):\n",
        "    print(liczba)"
      ],
      "execution_count": 0,
      "outputs": []
    },
    {
      "cell_type": "code",
      "metadata": {
        "id": "BNIjrYYV0BfX",
        "colab_type": "code",
        "colab": {}
      },
      "source": [
        "lista_4 = [0, 1, 2, 3, 4, 5, 6, 7, 8, 9]\n",
        "\n",
        "for element in lista_4:             # pętla for powtarza wielokrotnie tę samą operację\n",
        "    if element in (3, 4, 7, 9):   #if sprawdza czy jakas zaleznosc jest prawdziwa\n",
        "        print(element)\n",
        "    else:\n",
        "        print('co to jest??')"
      ],
      "execution_count": 0,
      "outputs": []
    },
    {
      "cell_type": "code",
      "metadata": {
        "scrolled": true,
        "id": "OvCxtKz40Bfh",
        "colab_type": "code",
        "colab": {}
      },
      "source": [
        "i = 0\n",
        "while i < 6:\n",
        "    print('dawaj jeszcze')\n",
        "    i +=1"
      ],
      "execution_count": 0,
      "outputs": []
    },
    {
      "cell_type": "code",
      "metadata": {
        "id": "01X2cYCb0Bfy",
        "colab_type": "code",
        "colab": {}
      },
      "source": [
        "jestem_glodny = input('jestes glodny?\\n')\n",
        "\n",
        "if jestem_glodny == 'tak':\n",
        "    print('pizza')\n",
        "elif jestem_glodny == 'nie':\n",
        "    print('to popij')\n",
        "else:\n",
        "    print('lepiej sie poloz')"
      ],
      "execution_count": 0,
      "outputs": []
    },
    {
      "cell_type": "markdown",
      "metadata": {
        "id": "b1tva_j10Bf5",
        "colab_type": "text"
      },
      "source": [
        "###  Ćwiczenia\n",
        "zapytaj użytkownika o coś i wydrukuj różne komunikaty w zależności od odpowiedzi"
      ]
    },
    {
      "cell_type": "code",
      "metadata": {
        "colab_type": "code",
        "id": "jW8IwCWt_Yz6",
        "colab": {}
      },
      "source": [
        "# ćwiczenie\n"
      ],
      "execution_count": 0,
      "outputs": []
    },
    {
      "cell_type": "markdown",
      "metadata": {
        "id": "_Q2MxC7a0Bf6",
        "colab_type": "text"
      },
      "source": [
        "# Funkcje\n",
        "- wieloktorne wykorzystanie tego samego kawałka kodu! \n",
        "- budowa złożonych programów, z prostszych do przeanalizowania oraz napisania elementów\n",
        "- czytelność"
      ]
    },
    {
      "cell_type": "code",
      "metadata": {
        "id": "VQh5fdrI0Bf9",
        "colab_type": "code",
        "colab": {}
      },
      "source": [
        "#definicja funkcji (tworzy funkcje, ale jej nie wywołuje)\n",
        "def wielkie_litery(napis):\n",
        "    wielki_napis = napis.upper()\n",
        "    return wielki_napis\n",
        "\n",
        "#wywołanie funkcji\n",
        "wielkie_litery('kot')"
      ],
      "execution_count": 0,
      "outputs": []
    },
    {
      "cell_type": "code",
      "metadata": {
        "id": "FlJdxTur0BgC",
        "colab_type": "code",
        "colab": {}
      },
      "source": [
        "def kwadrat(x):\n",
        "    return x*x\n",
        "\n",
        "print(kwadrat(5))"
      ],
      "execution_count": 0,
      "outputs": []
    },
    {
      "cell_type": "markdown",
      "metadata": {
        "id": "0VGbtr-xFYz6",
        "colab_type": "text"
      },
      "source": [
        "### Ćwiczenia\n",
        "Napisz funkcję która zwróci żart z podanym jej słowem ze strony https://api.chucknorris.io/ lub napisze, że żart z tym słowem nie istnieje."
      ]
    },
    {
      "cell_type": "code",
      "metadata": {
        "id": "dK93YQqQEcOO",
        "colab_type": "code",
        "colab": {}
      },
      "source": [
        "# ćwiczenie"
      ],
      "execution_count": 0,
      "outputs": []
    },
    {
      "cell_type": "markdown",
      "metadata": {
        "id": "RUGX-37P0BgH",
        "colab_type": "text"
      },
      "source": [
        "### Ćwiczenia\n",
        "stwórz funkcję która pyta o miasto zamieszkania i podaje fikcyjną pogodę"
      ]
    },
    {
      "cell_type": "code",
      "metadata": {
        "colab_type": "code",
        "id": "IbQvVoEM_b1J",
        "colab": {}
      },
      "source": [
        "# ćwiczenie\n"
      ],
      "execution_count": 0,
      "outputs": []
    },
    {
      "cell_type": "markdown",
      "metadata": {
        "id": "bYUidAU20BgJ",
        "colab_type": "text"
      },
      "source": [
        "# Moduły\n",
        "\n",
        "Moduły (biblioteki) to programy pythona które zawierają kodu (funkcje, klasy itp), który możemy wykorzystać.\n",
        "Najpierw jednak musimy je zaimportować po prostu używająć slowa 'import'.  \n",
        "Aby wykorzystać jakąś funkcję zdefiniowaną w zaimportowanym module,   musimy\n",
        "przed nazwą funkcji dołączyć nazwę modułu. "
      ]
    },
    {
      "cell_type": "code",
      "metadata": {
        "id": "mH4g90_l0BgK",
        "colab_type": "code",
        "colab": {}
      },
      "source": [
        "import random #modul z funkcjami związanymi z losowością (liczby losowe, losowy wybór elementów z listy itp.)\n",
        "\n",
        "losowa_liczba = random.randint(1, 100)\n",
        "print(losowa_liczba)"
      ],
      "execution_count": 0,
      "outputs": []
    },
    {
      "cell_type": "markdown",
      "metadata": {
        "colab_type": "text",
        "id": "XTugz_YkAI1a"
      },
      "source": [
        "### Ćwiczenia\n",
        "Swórz wirtualną kostkę do gry i zasymuluj dwa rzuty.\n"
      ]
    },
    {
      "cell_type": "code",
      "metadata": {
        "colab_type": "code",
        "id": "rvExwpmlAEoS",
        "colab": {}
      },
      "source": [
        "# ćwiczenie\n"
      ],
      "execution_count": 0,
      "outputs": []
    },
    {
      "cell_type": "code",
      "metadata": {
        "colab_type": "code",
        "id": "VuuhrL2jA4U1",
        "colab": {}
      },
      "source": [
        "# ćwiczenie\n"
      ],
      "execution_count": 0,
      "outputs": []
    },
    {
      "cell_type": "markdown",
      "metadata": {
        "colab_type": "text",
        "id": "dFIu7cQUA0lC"
      },
      "source": [
        "### Ćwiczenia\n",
        "Stwórz funkcję liczącą powierzchnie koła o danej średnicy\n"
      ]
    },
    {
      "cell_type": "code",
      "metadata": {
        "colab_type": "code",
        "id": "BlAnjJXUAxDF",
        "colab": {}
      },
      "source": [
        "# ćwiczenie\n"
      ],
      "execution_count": 0,
      "outputs": []
    },
    {
      "cell_type": "markdown",
      "metadata": {
        "id": "HhvuB2TMF05U",
        "colab_type": "text"
      },
      "source": [
        "# Błędy"
      ]
    },
    {
      "cell_type": "code",
      "metadata": {
        "id": "g6VPZsTwF3Jg",
        "colab_type": "code",
        "colab": {}
      },
      "source": [
        "print('blad)"
      ],
      "execution_count": 0,
      "outputs": []
    },
    {
      "cell_type": "code",
      "metadata": {
        "id": "HP554sBrF4rC",
        "colab_type": "code",
        "colab": {}
      },
      "source": [
        "pizza(salami)"
      ],
      "execution_count": 0,
      "outputs": []
    },
    {
      "cell_type": "code",
      "metadata": {
        "id": "BbTjSOlCGDvq",
        "colab_type": "code",
        "colab": {}
      },
      "source": [
        "def pizza(skladnik):\n",
        "  return f'dzisiaj pizza z {skladnik}'\n"
      ],
      "execution_count": 0,
      "outputs": []
    },
    {
      "cell_type": "code",
      "metadata": {
        "id": "g9Y29xy-Gkzn",
        "colab_type": "code",
        "colab": {}
      },
      "source": [
        "pizza()"
      ],
      "execution_count": 0,
      "outputs": []
    },
    {
      "cell_type": "code",
      "metadata": {
        "id": "RrLCw3-mGUZ_",
        "colab_type": "code",
        "colab": {}
      },
      "source": [
        "def szczekaj()\n",
        "  return 'hau, hau'\n",
        "\n"
      ],
      "execution_count": 0,
      "outputs": []
    },
    {
      "cell_type": "code",
      "metadata": {
        "id": "h655bCEpG95l",
        "colab_type": "code",
        "colab": {}
      },
      "source": [
        "def dzielenie(a, b):\n",
        "  return a/b"
      ],
      "execution_count": 0,
      "outputs": []
    },
    {
      "cell_type": "code",
      "metadata": {
        "id": "s01-Wgz2HO7N",
        "colab_type": "code",
        "colab": {}
      },
      "source": [
        "dzielenie(4, 0)"
      ],
      "execution_count": 0,
      "outputs": []
    },
    {
      "cell_type": "markdown",
      "metadata": {
        "id": "pGtpPGbw0Bgg",
        "colab_type": "text"
      },
      "source": [
        "# Zajęcia praktyczne"
      ]
    },
    {
      "cell_type": "markdown",
      "metadata": {
        "id": "Z8inm7yd0Bgi",
        "colab_type": "text"
      },
      "source": [
        "## Praca z plikami tekstowymi\n",
        "\n",
        "Praca z plikami w Pythonie jest bardzo prosta.  \n",
        "**open(name, mode)** zwraca obiekt z plikiem:\n",
        "- name - ścieżka do pliku\n",
        "- mode:  \n",
        "    'r' (read): otwieramy tylko do odczytu   \n",
        "    'w' (write): otwieramy tylko do pisania  \n",
        "    'a' (append): otwieramy do dopisywania (następne linijki)  "
      ]
    },
    {
      "cell_type": "code",
      "metadata": {
        "id": "MEbgelAZHXda",
        "colab_type": "code",
        "colab": {}
      },
      "source": [
        "!wget -O plik.txt https://www.w3.org/TR/PNG/iso_8859-1.txt "
      ],
      "execution_count": 0,
      "outputs": []
    },
    {
      "cell_type": "code",
      "metadata": {
        "scrolled": true,
        "id": "i6DHuN_Q0Bgj",
        "colab_type": "code",
        "colab": {}
      },
      "source": [
        "with open('plik.txt', 'r') as f:\n",
        "    read_data = f.read()\n",
        "    print(read_data)"
      ],
      "execution_count": 0,
      "outputs": []
    },
    {
      "cell_type": "code",
      "metadata": {
        "scrolled": true,
        "id": "RqzO_fDk0Bgr",
        "colab_type": "code",
        "colab": {}
      },
      "source": [
        "with open('plik.txt', 'r') as f:\n",
        "    for linia in f:\n",
        "        print(linia)\n",
        "        break"
      ],
      "execution_count": 0,
      "outputs": []
    },
    {
      "cell_type": "code",
      "metadata": {
        "id": "9Ct_e8A20Bg3",
        "colab_type": "code",
        "colab": {}
      },
      "source": [
        "with open('plik.txt', 'w') as f:\n",
        "  f.write('dziala to nasze pisanie, czy nie?')"
      ],
      "execution_count": 0,
      "outputs": []
    },
    {
      "cell_type": "code",
      "metadata": {
        "id": "Use2Bevj0Bg6",
        "colab_type": "code",
        "colab": {}
      },
      "source": [
        "with open('plik.txt','r') as f:\n",
        "    print(f.read())"
      ],
      "execution_count": 0,
      "outputs": []
    },
    {
      "cell_type": "markdown",
      "metadata": {
        "colab_type": "text",
        "id": "l5pWCOvo-03u"
      },
      "source": [
        "### Ćwiczenia\n",
        "Dodaj jeszcze jakiś tekst do naszego pliku."
      ]
    },
    {
      "cell_type": "code",
      "metadata": {
        "colab_type": "code",
        "id": "nXeU-BSg_FjO",
        "colab": {}
      },
      "source": [
        "# ćwiczenie\n"
      ],
      "execution_count": 0,
      "outputs": []
    },
    {
      "cell_type": "markdown",
      "metadata": {
        "id": "QCKqhBgdHEmE",
        "colab_type": "text"
      },
      "source": [
        "## Praca z plikami"
      ]
    },
    {
      "cell_type": "code",
      "metadata": {
        "id": "2XjMx9GAOtC1",
        "colab_type": "code",
        "colab": {}
      },
      "source": [
        "# zmieniamy nazwy wszystkich plikow w folderze\n",
        "import os\n",
        "\n",
        "i = 1\n",
        "folder = '/content/sample_data/'\n",
        "\n",
        "for filename in os.listdir(folder):\n",
        "  plik = folder+filename\n",
        "  rozszerzenie = filename.split('.')[1]\n",
        "  new_name =\"kurs_\" + str(i)+'.'+ rozszerzenie\n",
        "  os.rename(plik, folder+new_name) \n",
        "  i += 1"
      ],
      "execution_count": 0,
      "outputs": []
    },
    {
      "cell_type": "code",
      "metadata": {
        "colab_type": "code",
        "id": "sxIwQRK1_JPd",
        "colab": {}
      },
      "source": [
        "# ćwiczenie\n"
      ],
      "execution_count": 0,
      "outputs": []
    },
    {
      "cell_type": "markdown",
      "metadata": {
        "id": "KHlrgx_BS8Y4",
        "colab_type": "text"
      },
      "source": [
        "## API"
      ]
    },
    {
      "cell_type": "code",
      "metadata": {
        "id": "JcXyqUtdS_u5",
        "colab_type": "code",
        "colab": {}
      },
      "source": [
        "import requests\n",
        "\n",
        "r = requests.get(\"https://api.adviceslip.com/advice\")\n",
        "content = r.json()\n",
        "print(content)"
      ],
      "execution_count": 0,
      "outputs": []
    },
    {
      "cell_type": "markdown",
      "metadata": {
        "id": "DCtAwAXW7wG_",
        "colab_type": "text"
      },
      "source": [
        "### Ćwiczenia\n",
        "Wydrukuj porade dotyczącą X"
      ]
    },
    {
      "cell_type": "code",
      "metadata": {
        "id": "FyawSvv_7wxG",
        "colab_type": "code",
        "colab": {}
      },
      "source": [
        "# ćwiczenie\n"
      ],
      "execution_count": 0,
      "outputs": []
    },
    {
      "cell_type": "markdown",
      "metadata": {
        "id": "a2yqt25h0BhT",
        "colab_type": "text"
      },
      "source": [
        "# Klasy\n",
        "Python jest całkowicie zorientowany obiektowo: możemy zarówno korzystać z wbudowanych klas jak i tworzyć własne klasy.\n",
        "\n",
        "Tworzenie klas w Pythonie jest proste. Po prostu definiujemy klasę i zaczynamy ją stosować.  \n",
        "Klasa w Pythonie rozpoczyna się słowem kluczowym **class**, po którym następuje nazwa klasy , która zwyczajowo pisana jest z dużej litery."
      ]
    },
    {
      "cell_type": "code",
      "metadata": {
        "id": "NSFwOD4y0BhU",
        "colab_type": "code",
        "colab": {}
      },
      "source": [
        "class Pies():\n",
        "    def __init__(self, rasa):\n",
        "        self.najwiekszy_wrog = 'kot'\n",
        "        self.nogi = 4\n",
        "        self.rasa = rasa\n",
        "\n",
        "    def zaszczekaj(self):\n",
        "        print('hau, hau')\n",
        "        \n",
        "    def zjedz(self, nastroj):\n",
        "        if nastroj == 'wesoly':\n",
        "          print('macham ogonem')\n",
        "        elif nastroj == 'zly':\n",
        "          print('gryzę')\n",
        "        else:\n",
        "          print('idę spać')\n",
        "\n"
      ],
      "execution_count": 0,
      "outputs": []
    },
    {
      "cell_type": "code",
      "metadata": {
        "id": "N7fuUlzB0BhX",
        "colab_type": "code",
        "colab": {}
      },
      "source": [
        "rudy = Pies('wilczur')\n",
        "rudy.rasa"
      ],
      "execution_count": 0,
      "outputs": []
    },
    {
      "cell_type": "code",
      "metadata": {
        "id": "lcjdbWPl0Bhh",
        "colab_type": "code",
        "colab": {}
      },
      "source": [
        "rudy.zaszczekaj()"
      ],
      "execution_count": 0,
      "outputs": []
    },
    {
      "cell_type": "markdown",
      "metadata": {
        "colab_type": "text",
        "id": "o9Dndv-cdKKK"
      },
      "source": [
        "### Ćwiczenia\n",
        "Stwórz własnego psa i spraw, żeby pomachał ogonem\n"
      ]
    },
    {
      "cell_type": "code",
      "metadata": {
        "colab_type": "code",
        "id": "BrgR3G_R_NCV",
        "colab": {}
      },
      "source": [
        "# ćwiczenie\n"
      ],
      "execution_count": 0,
      "outputs": []
    },
    {
      "cell_type": "markdown",
      "metadata": {
        "id": "VfsRDugJH-wT",
        "colab_type": "text"
      },
      "source": [
        "# Crazy staff"
      ]
    },
    {
      "cell_type": "code",
      "metadata": {
        "id": "UIfqySKuIAf0",
        "colab_type": "code",
        "colab": {}
      },
      "source": [
        "# spawdzamy długość i szerokość geograficzną jakiegoś adresu\n",
        "\n",
        "from geopy.geocoders import Nominatim\n",
        "geolocator = Nominatim(user_agent=\"geoapiExercises\")\n",
        "adres = \"Francuska 2/4, Warszawa\"\n",
        "print(\"Adres:\", adres)\n",
        "location = geolocator.geocode(adres)\n",
        "print(f\"Długość i szerokość geograficzna: {location.latitude, location.longitude}\")"
      ],
      "execution_count": 0,
      "outputs": []
    },
    {
      "cell_type": "markdown",
      "metadata": {
        "colab_type": "text",
        "id": "v0ssEIjIfYDP"
      },
      "source": [
        "### Ćwiczenia\n",
        "Porównaj szerokość geograficzną Nowego Jorku i Warszawy"
      ]
    },
    {
      "cell_type": "code",
      "metadata": {
        "colab_type": "code",
        "id": "v7DZZ7E3_OxV",
        "colab": {}
      },
      "source": [
        "# ćwiczenie\n"
      ],
      "execution_count": 0,
      "outputs": []
    },
    {
      "cell_type": "markdown",
      "metadata": {
        "id": "5aL9L6FhcgrR",
        "colab_type": "text"
      },
      "source": [
        "# Własny strona AI z rozpoznawaniem wieku"
      ]
    },
    {
      "cell_type": "code",
      "metadata": {
        "id": "QkTkAjZacZJq",
        "colab_type": "code",
        "colab": {}
      },
      "source": [
        "!pip install flask-ngrok"
      ],
      "execution_count": 0,
      "outputs": []
    },
    {
      "cell_type": "code",
      "metadata": {
        "id": "BkiUwbOoWKze",
        "colab_type": "code",
        "colab": {}
      },
      "source": [
        "from flask_ngrok import run_with_ngrok\n",
        "from flask import Flask\n",
        "import random\n",
        "\n",
        "app = Flask(__name__)\n",
        "run_with_ngrok(app)   #starts ngrok when the app is run\n",
        "\n",
        "@app.route(\"/\")\n",
        "def home():\n",
        "    return \"<h1>API documentation</h1><p> <b>GET /age</b> przewiduje ile masz lat</p>\"\n",
        "\n",
        "@app.route('/age', methods=['GET'])\n",
        "def age():\n",
        "    return str(random.randint(1, 100))\n",
        "  \n",
        "app.run()"
      ],
      "execution_count": 0,
      "outputs": []
    },
    {
      "cell_type": "markdown",
      "metadata": {
        "colab_type": "text",
        "id": "Bkg-3MU6_cjO"
      },
      "source": [
        "# Ideas"
      ]
    },
    {
      "cell_type": "code",
      "metadata": {
        "id": "De_mNBtMICy5",
        "colab_type": "code",
        "colab": {}
      },
      "source": [
        "# Create a program that will play the “cows and bulls” game with the user. The game works like this:\n",
        "\n",
        "# Randomly generate a 4-digit number. Ask the user to guess a 4-digit number. For every digit that the user guessed correctly in the correct place, they have a “cow”. For every digit the user guessed correctly in the wrong place is a “bull.” Every time the user makes a guess, tell them how many “cows” and “bulls” they have. Once the user guesses the correct number, the game is over. Keep track of the number of guesses the user makes throughout teh game and tell the user at the end.\n",
        "\n",
        "# Say the number generated by the computer is 1038. An example interaction could look like this:\n",
        "\n",
        "#   Welcome to the Cows and Bulls Game! \n",
        "#   Enter a number: \n",
        "#   >>> 1234\n",
        "#   2 cows, 0 bulls\n",
        "#   >>> 1256\n",
        "#   1 cow, 1 bull\n",
        "#   ...\n",
        "# Until the user guesses the number."
      ],
      "execution_count": 0,
      "outputs": []
    }
  ]
}