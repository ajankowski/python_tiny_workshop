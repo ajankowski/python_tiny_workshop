{
  "nbformat": 4,
  "nbformat_minor": 0,
  "metadata": {
    "colab": {
      "name": "Tiny_Python_ALK_part_1.ipynb",
      "provenance": [],
      "private_outputs": true,
      "collapsed_sections": [],
      "toc_visible": true,
      "include_colab_link": true
    },
    "language_info": {
      "codemirror_mode": {
        "name": "ipython",
        "version": 3
      },
      "file_extension": ".py",
      "mimetype": "text/x-python",
      "name": "python",
      "nbconvert_exporter": "python",
      "pygments_lexer": "ipython3",
      "version": "3.6.5"
    },
    "kernelspec": {
      "name": "python3",
      "display_name": "Python 3"
    }
  },
  "cells": [
    {
      "cell_type": "markdown",
      "metadata": {
        "id": "view-in-github",
        "colab_type": "text"
      },
      "source": [
        "<a href=\"https://colab.research.google.com/github/ajankowski/python_tiny_workshop/blob/master/Tiny_Python_ALK_part_1.ipynb\" target=\"_parent\"><img src=\"https://colab.research.google.com/assets/colab-badge.svg\" alt=\"Open In Colab\"/></a>"
      ]
    },
    {
      "cell_type": "markdown",
      "metadata": {
        "id": "5zk32T8F0Bbj",
        "colab_type": "text"
      },
      "source": [
        "<img src=\"https://www.python.org/static/community_logos/python-logo-master-v3-TM.png\" align=\"center\" width='500'>\n",
        "\n",
        "# Python\n",
        "to jeden z najpopularniejszych i najlatwiejszych do nauczenia się języków programowania.  \n",
        "Kod w języku Python jest krótki i czytelny, nie pozostawia wątpliwości co do sposobu działania.  \n",
        "Dodatkowy bonus - jest to język nauki i sztucznej inteligencji :-)"
      ]
    },
    {
      "cell_type": "markdown",
      "metadata": {
        "id": "Zj8qA1FdtEva",
        "colab_type": "text"
      },
      "source": [
        "# Co potrafi Python?"
      ]
    },
    {
      "cell_type": "code",
      "metadata": {
        "id": "S1m7LTsntPQU",
        "colab_type": "code",
        "colab": {}
      },
      "source": [
        "3*4 "
      ],
      "execution_count": null,
      "outputs": []
    },
    {
      "cell_type": "code",
      "metadata": {
        "id": "s0SMA-bMtPdf",
        "colab_type": "code",
        "colab": {}
      },
      "source": [
        "'ala'+'bama'"
      ],
      "execution_count": null,
      "outputs": []
    },
    {
      "cell_type": "code",
      "metadata": {
        "id": "Z3S5fOm6toFQ",
        "colab_type": "code",
        "colab": {}
      },
      "source": [
        "'kot'"
      ],
      "execution_count": null,
      "outputs": []
    },
    {
      "cell_type": "code",
      "metadata": {
        "id": "2cJySvLztPm3",
        "colab_type": "code",
        "colab": {}
      },
      "source": [
        "20*'kot'"
      ],
      "execution_count": null,
      "outputs": []
    },
    {
      "cell_type": "code",
      "metadata": {
        "id": "F7greN77tPuy",
        "colab_type": "code",
        "colab": {}
      },
      "source": [
        "pies"
      ],
      "execution_count": null,
      "outputs": []
    },
    {
      "cell_type": "markdown",
      "metadata": {
        "id": "VvJVALV5Ov5D",
        "colab_type": "text"
      },
      "source": [
        "# Pierwszy prawdziwy program!"
      ]
    },
    {
      "cell_type": "code",
      "metadata": {
        "id": "zDV7Nwc89PpW",
        "colab_type": "code",
        "colab": {}
      },
      "source": [
        "print('hello world')"
      ],
      "execution_count": null,
      "outputs": []
    },
    {
      "cell_type": "code",
      "metadata": {
        "id": "k_TcYaEytP-r",
        "colab_type": "code",
        "colab": {}
      },
      "source": [
        ""
      ],
      "execution_count": null,
      "outputs": []
    },
    {
      "cell_type": "markdown",
      "metadata": {
        "id": "bP9DSAAY0Bbl",
        "colab_type": "text"
      },
      "source": [
        "# Syntax (struktura, uporządkowanie słów w zdaniu - gramatyka Pythona)\n",
        "- Bloki kodu oddzielone są wcięciami (stosuje się 4 spacje, nie jest to konieczne, ale musimy być konsekwentni, tzn. kolejne wcięcia muszą być takie same, linia bez wcięcia znajdować się będzie poza blokiem).\n",
        "- Wyrażenia które wymagają wcięć zakończone są dwukropkiem **:**\n",
        "- Ważna jest wielkość liter.\n",
        "- Komentarze w kodzie zaczynamy od znaku #\n",
        "\n",
        "Napiszcie w komórce poniżej jakiś komentarz"
      ]
    },
    {
      "cell_type": "code",
      "metadata": {
        "id": "rgvwa4fCPHTL",
        "colab_type": "code",
        "colab": {}
      },
      "source": [
        "# comment"
      ],
      "execution_count": null,
      "outputs": []
    },
    {
      "cell_type": "markdown",
      "metadata": {
        "id": "zX5CSbGx0Bbn",
        "colab_type": "text"
      },
      "source": [
        "# Zmienne\n",
        "Zmienna = miejsce, gdzie komputer przechowuje dane  \n",
        "Zmienne przypisujemy do nazw znakiem rowności **=** , a testujemy czy dane są równe znakiem **==**"
      ]
    },
    {
      "cell_type": "code",
      "metadata": {
        "id": "AFeV6xAK0Bbq",
        "colab_type": "code",
        "colab": {}
      },
      "source": [
        "kot = 3\n",
        "pies = 7"
      ],
      "execution_count": null,
      "outputs": []
    },
    {
      "cell_type": "code",
      "metadata": {
        "scrolled": true,
        "id": "_COkZ9ns0Bbz",
        "colab_type": "code",
        "colab": {}
      },
      "source": [
        "kot + pies"
      ],
      "execution_count": null,
      "outputs": []
    },
    {
      "cell_type": "code",
      "metadata": {
        "id": "RMfMdSAk0Bb_",
        "colab_type": "code",
        "colab": {}
      },
      "source": [
        "kot == 3\n",
        "# kot == pies"
      ],
      "execution_count": null,
      "outputs": []
    },
    {
      "cell_type": "markdown",
      "metadata": {
        "id": "zObTyZBXOZun",
        "colab_type": "text"
      },
      "source": [
        "### Live exercise \n",
        "\n",
        "Napiszcie ile macie jabłek i gruszek, a potem policzcie ile macie owoców."
      ]
    },
    {
      "cell_type": "code",
      "metadata": {
        "id": "L5nlcdr10BcI",
        "colab_type": "code",
        "colab": {}
      },
      "source": [
        "napis_1 = 'hallo'\n",
        "napis_2 = \"world!\"\n",
        "\n",
        "napis_3 = napis_1 + napis_2 "
      ],
      "execution_count": null,
      "outputs": []
    },
    {
      "cell_type": "code",
      "metadata": {
        "scrolled": true,
        "id": "nED5KZiX0BcO",
        "colab_type": "code",
        "colab": {}
      },
      "source": [
        "print(napis_3)"
      ],
      "execution_count": null,
      "outputs": []
    },
    {
      "cell_type": "code",
      "metadata": {
        "id": "mVi3uSr9vwTi",
        "colab_type": "code",
        "colab": {}
      },
      "source": [
        "print('lecimy dalej)"
      ],
      "execution_count": null,
      "outputs": []
    },
    {
      "cell_type": "code",
      "metadata": {
        "id": "H5gu2ev9v5Zg",
        "colab_type": "code",
        "colab": {}
      },
      "source": [
        "# czasem program odmówi działania i pokaże nam błąd :-)"
      ],
      "execution_count": null,
      "outputs": []
    },
    {
      "cell_type": "markdown",
      "metadata": {
        "id": "U09i5r80lHLn",
        "colab_type": "text"
      },
      "source": [
        "### Live exercise\n",
        "Zrób co najmniej 3 różne błędy"
      ]
    },
    {
      "cell_type": "markdown",
      "metadata": {
        "id": "6XmMxh7SRQAp",
        "colab_type": "text"
      },
      "source": [
        "### Live exercise\n",
        "\n",
        "Napiszcie 100 razy: Nie będę przeszkadzał w lekcji"
      ]
    },
    {
      "cell_type": "code",
      "metadata": {
        "id": "TTcFqLnNscxW",
        "colab_type": "code",
        "colab": {}
      },
      "source": [
        ""
      ],
      "execution_count": null,
      "outputs": []
    },
    {
      "cell_type": "markdown",
      "metadata": {
        "id": "N7GSXAsQ7-HN",
        "colab_type": "text"
      },
      "source": [
        "# Input"
      ]
    },
    {
      "cell_type": "code",
      "metadata": {
        "scrolled": true,
        "id": "lc4Gr9zs0BdP",
        "colab_type": "code",
        "colab": {}
      },
      "source": [
        "imie = input('jak masz na imie? ')\n",
        "print('hej '+ imie)"
      ],
      "execution_count": null,
      "outputs": []
    },
    {
      "cell_type": "markdown",
      "metadata": {
        "id": "LQ5gCc740BdW",
        "colab_type": "text"
      },
      "source": [
        "### Ćwiczenia e110\n",
        "\n",
        "Poproś uzytkownika o wprowadzenie jakiejś cyfry i wydrukuj wynik mnożenia jej przez 3"
      ]
    },
    {
      "cell_type": "code",
      "metadata": {
        "colab_type": "code",
        "id": "E5VgrnBQ-5hV",
        "colab": {}
      },
      "source": [
        "# ćwiczenie.lowTAK"
      ],
      "execution_count": null,
      "outputs": []
    },
    {
      "cell_type": "markdown",
      "metadata": {
        "id": "PwUzKsxi0BfL",
        "colab_type": "text"
      },
      "source": [
        "\n",
        "# Instrukcje sterujące\n",
        "\n",
        "W życiu często podejmujemy decyzje w zależności od sytuacji.  \n",
        "W programowaniu też mamy taką możliwość i służą do tego instrukcje sterujące.\n",
        "- if\n",
        "- for \n",
        "- while "
      ]
    },
    {
      "cell_type": "code",
      "metadata": {
        "id": "01X2cYCb0Bfy",
        "colab_type": "code",
        "colab": {}
      },
      "source": [
        "jestem_glodny = input('jestes glodny?\\n')\n",
        "\n",
        "if jestem_glodny == 'tak':\n",
        "    print('pizza')"
      ],
      "execution_count": null,
      "outputs": []
    },
    {
      "cell_type": "code",
      "metadata": {
        "id": "ewkr6wPu36_v",
        "colab_type": "code",
        "colab": {}
      },
      "source": [
        "jestem_glodny = input('jestes glodny?\\n')jestem_glodny = input('jestes glodny?\\n')\n",
        "\n",
        "if jestem_glodny == 'tak':\n",
        "    print('pizza')\n",
        "    \n",
        "elif jestem_glodny == 'nie':\n",
        "    print('to popij')"
      ],
      "execution_count": null,
      "outputs": []
    },
    {
      "cell_type": "code",
      "metadata": {
        "id": "8dx21QUo37XR",
        "colab_type": "code",
        "colab": {}
      },
      "source": [
        "jestem_glodny = input('jestes glodny?\\n')\n",
        "\n",
        "if jestem_glodny == 'tak':\n",
        "    print('pizza')\n",
        "    \n",
        "elif jestem_glodny == 'nie':\n",
        "    print('to popij')\n",
        "    \n",
        "else:\n",
        "    print('nie odpowiadasz? nie wiem co robić')"
      ],
      "execution_count": null,
      "outputs": []
    },
    {
      "cell_type": "markdown",
      "metadata": {
        "id": "b1tva_j10Bf5",
        "colab_type": "text"
      },
      "source": [
        "###  Ćwiczenia e180\n",
        "zapytaj użytkownika o coś i wydrukuj różne komunikaty w zależności od odpowiedzi\n",
        "\n",
        ">jaką masz temperaturę?  \n",
        "37 > zapraszamy  \n",
        "38 > oj posiedzisz sobie w domu"
      ]
    },
    {
      "cell_type": "code",
      "metadata": {
        "colab_type": "code",
        "id": "jW8IwCWt_Yz6",
        "colab": {}
      },
      "source": [
        "# ćwiczenie\n"
      ],
      "execution_count": null,
      "outputs": []
    },
    {
      "cell_type": "code",
      "metadata": {
        "id": "BNIjrYYV0BfX",
        "colab_type": "code",
        "colab": {}
      },
      "source": [
        " liczby = [0, 1, 2, 3, 4, 5, 6, 7, 8, 9]"
      ],
      "execution_count": null,
      "outputs": []
    },
    {
      "cell_type": "code",
      "metadata": {
        "scrolled": true,
        "id": "SA0uXNFR0BfN",
        "colab_type": "code",
        "colab": {}
      },
      "source": [
        "# możemy użyć funkcji range(n), żeby wygenerować ciąg kolejnych liczb\n",
        "for liczba in range(5, 10):\n",
        "    print(liczba)"
      ],
      "execution_count": null,
      "outputs": []
    },
    {
      "cell_type": "code",
      "metadata": {
        "id": "gusteQW9oNZv",
        "colab_type": "code",
        "colab": {}
      },
      "source": [
        "liczby = []\n",
        "\n",
        "for liczba in range(100):\n",
        "  liczby.append(liczba)\n",
        "\n",
        "print(liczby)\n"
      ],
      "execution_count": null,
      "outputs": []
    },
    {
      "cell_type": "code",
      "metadata": {
        "id": "OVOq2o-QoDRb",
        "colab_type": "code",
        "colab": {}
      },
      "source": [
        "for element in liczby:             # pętla for powtarza wielokrotnie tę samą operację\n",
        "    if element in (3, 4, 7, 9):    #if sprawdza czy jakas zaleznosc jest prawdziwa\n",
        "        print(element)\n",
        "    else:\n",
        "        print('co to jest??')"
      ],
      "execution_count": null,
      "outputs": []
    },
    {
      "cell_type": "markdown",
      "metadata": {
        "id": "cEqkNE0gpGy3",
        "colab_type": "text"
      },
      "source": [
        "### Live Exercise\n",
        "Wydrukuj wszystkie liczby parzyste pomiędzy 20, a 40\n",
        "\n",
        ">oczekiwany rezultat:  \n",
        "20, 22, 24 ... 40"
      ]
    },
    {
      "cell_type": "code",
      "metadata": {
        "scrolled": true,
        "id": "OvCxtKz40Bfh",
        "colab_type": "code",
        "colab": {}
      },
      "source": [
        "# odliczanie\n",
        "\n",
        "i = 0\n",
        "while i < 6:\n",
        "    print(i)\n",
        "    i +=1\n",
        "    if i == 5:\n",
        "      print(i)\n",
        "      print('bum')\n",
        "      break"
      ],
      "execution_count": null,
      "outputs": []
    },
    {
      "cell_type": "markdown",
      "metadata": {
        "id": "c7h0hrJIpHqa",
        "colab_type": "text"
      },
      "source": [
        "### Live Exercise\n",
        "Napisz kod który odliczy czas i wystartuje rakietę.\n",
        "\n",
        ">oczekiwany rezultat:  \n",
        "10  \n",
        "9  \n",
        "8  \n",
        "...  \n",
        "0  \n",
        "start  "
      ]
    },
    {
      "cell_type": "markdown",
      "metadata": {
        "id": "_Q2MxC7a0Bf6",
        "colab_type": "text"
      },
      "source": [
        "# Funkcje\n",
        "Funkcje to fragmenty kodu, które nakazują Pythonowi wykonać jakieś zadanie.\n",
        "Zalety tworzenia funkcji to:\n",
        "- wieloktorne wykorzystanie tego samego kawałka kodu! \n",
        "- budowa złożonych programów, z prostszych do przeanalizowania oraz napisania elementów\n",
        "- czytelność\n",
        "\n",
        "Funkcje składają się z trzech elementów:\n",
        "- nazwy funkcji\n",
        "- jej parametrów (tego co funkcja od nas otrzyma)\n",
        "- bloku kodu\n",
        "\n"
      ]
    },
    {
      "cell_type": "code",
      "metadata": {
        "id": "VQh5fdrI0Bf9",
        "colab_type": "code",
        "colab": {}
      },
      "source": [
        "#definicja funkcji (tworzy funkcje, ale jej nie wywołuje)\n",
        "def wielkie_litery(napis):\n",
        "    wielki_napis = napis.upper()\n",
        "    return wielki_napis\n",
        "\n",
        "#wywołanie funkcji\n",
        "wielkie_litery('kot')"
      ],
      "execution_count": null,
      "outputs": []
    },
    {
      "cell_type": "code",
      "metadata": {
        "id": "QEp9OjBVrjsm",
        "colab_type": "code",
        "colab": {}
      },
      "source": [
        "def drukuj(liczba):\n",
        "  print(liczba)\n",
        "\n",
        "def gry(x):\n",
        "    return 'mam w domu '+ str(x) +' gry'\n",
        "\n",
        "gry(drukuj(4))"
      ],
      "execution_count": null,
      "outputs": []
    },
    {
      "cell_type": "code",
      "metadata": {
        "colab_type": "code",
        "id": "VuuhrL2jA4U1",
        "colab": {}
      },
      "source": [
        "# ćwiczenie\n",
        "\n",
        "\n"
      ],
      "execution_count": null,
      "outputs": []
    },
    {
      "cell_type": "markdown",
      "metadata": {
        "id": "B2Uv9W8htBAH",
        "colab_type": "text"
      },
      "source": [
        "### Live exercise\n",
        "Napiszcie kalkulator walutowy, ktory po podaniu kursu i liczby liczy wartosc w pln."
      ]
    },
    {
      "cell_type": "markdown",
      "metadata": {
        "id": "RUGX-37P0BgH",
        "colab_type": "text"
      },
      "source": [
        "### Ćwiczenia e200\n",
        "\n",
        "stwórz funkcję która pyta o miasto zamieszkania (do wyboru jest kraków i warszawa) i podaje fikcyjną pogodę\n",
        "\n",
        ">gdzie mieszkasz? warszawa  \n",
        "'dzisiaj w warszawie jest 20 stopni'\n",
        "\n",
        "co będzie jeśli ktoś poda inne miasto?"
      ]
    },
    {
      "cell_type": "code",
      "metadata": {
        "colab_type": "code",
        "id": "IbQvVoEM_b1J",
        "colab": {}
      },
      "source": [
        "# ćwiczenie\n",
        "\n",
        "def prognoza():\n",
        "    miasto = input('gdzie mieszkasz?\\n')\n",
        "    if miasto == 'warszawa':\n",
        "      print('w warszawie jest 20 stopni')\n",
        "    elif miasto == 'krakow':\n",
        "      print('w krakowie jak zwykle pada')\n",
        "    else:\n",
        "      print('masz do wyboru tylko kraków lub warszawę')\n"
      ],
      "execution_count": null,
      "outputs": []
    },
    {
      "cell_type": "code",
      "metadata": {
        "id": "jCVwz1JcwX5e",
        "colab_type": "code",
        "colab": {}
      },
      "source": [
        "prognoza()"
      ],
      "execution_count": null,
      "outputs": []
    },
    {
      "cell_type": "markdown",
      "metadata": {
        "id": "l6kDWT4N0BcZ",
        "colab_type": "text"
      },
      "source": [
        "# Typy danych\n",
        "\n",
        "W pythonie mamy dostępne kilka typów danych, podstawowe z nich to:   \n",
        "- *int* - (integer) -liczby całkowite:  -99, -98,..., -2, -1, 0, 1, 2, ..., 98  \n",
        "- *float* - floating point -liczby rzeczywiste (zmiennoprzecinkowe):  0.2, 3.14, -0.8897  \n",
        "- *str* - tekst (string), tekstem jest dowolne wyrażenie w cudzysłowie pojedynczym lub podwójnym: 'python' lub \"python\""
      ]
    },
    {
      "cell_type": "code",
      "metadata": {
        "id": "JX4WNUeM0Bca",
        "colab_type": "code",
        "colab": {}
      },
      "source": [
        "liczba_calkowita = 6\n",
        "liczba_rzeczywista = 0.56"
      ],
      "execution_count": null,
      "outputs": []
    },
    {
      "cell_type": "code",
      "metadata": {
        "id": "1qRcU4-Y0Bcg",
        "colab_type": "code",
        "colab": {}
      },
      "source": [
        "type(liczba_calkowita)\n",
        "type(liczba_rzeczywista)"
      ],
      "execution_count": null,
      "outputs": []
    },
    {
      "cell_type": "markdown",
      "metadata": {
        "id": "1qsgmRLdzLDU",
        "colab_type": "text"
      },
      "source": [
        "## Strings (tekst)"
      ]
    },
    {
      "cell_type": "code",
      "metadata": {
        "id": "KD9DauLR0Bcq",
        "colab_type": "code",
        "colab": {}
      },
      "source": [
        "napis = 'kuble'"
      ],
      "execution_count": null,
      "outputs": []
    },
    {
      "cell_type": "code",
      "metadata": {
        "scrolled": true,
        "id": "4HNZQwTn0Bcx",
        "colab_type": "code",
        "colab": {}
      },
      "source": [
        "type(napis)"
      ],
      "execution_count": null,
      "outputs": []
    },
    {
      "cell_type": "code",
      "metadata": {
        "id": "n94zQQDx0Bc4",
        "colab_type": "code",
        "colab": {}
      },
      "source": [
        "napis[1:4]"
      ],
      "execution_count": null,
      "outputs": []
    },
    {
      "cell_type": "code",
      "metadata": {
        "id": "gd1RHweT0BdA",
        "colab_type": "code",
        "colab": {}
      },
      "source": [
        "n = 'ala ma kota'\n",
        "len(n) # liczba znaków w tekście"
      ],
      "execution_count": null,
      "outputs": []
    },
    {
      "cell_type": "code",
      "metadata": {
        "id": "3gYnr4l90BdI",
        "colab_type": "code",
        "colab": {}
      },
      "source": [
        "n.split()"
      ],
      "execution_count": null,
      "outputs": []
    },
    {
      "cell_type": "markdown",
      "metadata": {
        "id": "nupos-OT_qxM",
        "colab_type": "text"
      },
      "source": [
        "### Ćwiczenia e130 (to change YAML)\n",
        "Policz ilość słów w podanym zdaniu\n",
        "\n",
        "> ala ma kota > 3"
      ]
    },
    {
      "cell_type": "code",
      "metadata": {
        "id": "aIH_HFytuZiW",
        "colab_type": "code",
        "colab": {}
      },
      "source": [
        "# split może też przyjąć dowolny parametr\n",
        "\n",
        "kot = 'ala ma kota: kot jest glupi'\n",
        "\n",
        "kot.split(':')"
      ],
      "execution_count": null,
      "outputs": []
    },
    {
      "cell_type": "markdown",
      "metadata": {
        "colab_type": "text",
        "id": "KSKRjbLh_9xN"
      },
      "source": [
        "### Ćwiczenia e140\n",
        "Oddziel typ pliku od jego nazwy, na przykład: \n",
        "> obrazek.jpg > jpg  \n",
        "dane.xlsx > xlsx"
      ]
    },
    {
      "cell_type": "code",
      "metadata": {
        "colab_type": "code",
        "id": "kaIPNIleAVxe",
        "colab": {}
      },
      "source": [
        "# ćwiczenie\n"
      ],
      "execution_count": null,
      "outputs": []
    },
    {
      "cell_type": "markdown",
      "metadata": {
        "id": "bYUidAU20BgJ",
        "colab_type": "text"
      },
      "source": [
        "# Moduły\n",
        "\n",
        "Moduły (biblioteki) to programy pythona które zawierają kodu (funkcje, klasy itp), który możemy wykorzystać.\n",
        "Najpierw jednak musimy je zaimportować po prostu używająć slowa 'import'.  \n",
        "Aby wykorzystać jakąś funkcję zdefiniowaną w zaimportowanym module,   musimy\n",
        "przed nazwą funkcji dołączyć nazwę modułu. "
      ]
    },
    {
      "cell_type": "code",
      "metadata": {
        "id": "mH4g90_l0BgK",
        "colab_type": "code",
        "colab": {}
      },
      "source": [
        "import random #modul z funkcjami związanymi z losowością (liczby losowe, losowy wybór elementów z listy itp.)\n",
        "\n",
        "losowa_liczba = random.randint(1, 100)\n",
        "print(losowa_liczba)"
      ],
      "execution_count": null,
      "outputs": []
    },
    {
      "cell_type": "markdown",
      "metadata": {
        "colab_type": "text",
        "id": "XTugz_YkAI1a"
      },
      "source": [
        "### Ćwiczenia e210\n",
        "Swórz wirtualną kostkę do gry i zasymuluj dwa rzuty.\n"
      ]
    },
    {
      "cell_type": "code",
      "metadata": {
        "colab_type": "code",
        "id": "rvExwpmlAEoS",
        "colab": {}
      },
      "source": [
        "# ćwiczenie\n",
        "\n",
        "\n",
        "def kostka():\n",
        "  return random.randint(1,6)\n",
        "\n",
        "for i in range(3):\n",
        "  print(kostka())"
      ],
      "execution_count": null,
      "outputs": []
    },
    {
      "cell_type": "markdown",
      "metadata": {
        "id": "NOL0gu7DO8Yh",
        "colab_type": "text"
      },
      "source": [
        "### Live exercise\n",
        "Napisz program do odgadywania liczby.\n",
        "> Program wylosuje liczbę z zakresu 1-100 i po uzystkaniu twojej odpowiedzi napisze, czy odpowiedź jest:\n",
        "- prawidłowa\n",
        "- za niska\n",
        "- za wysoka"
      ]
    }
  ]
}