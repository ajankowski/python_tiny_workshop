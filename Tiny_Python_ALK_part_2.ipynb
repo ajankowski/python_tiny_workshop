{
  "nbformat": 4,
  "nbformat_minor": 0,
  "metadata": {
    "colab": {
      "name": "Tiny_Python_ALK_part_2.ipynb",
      "provenance": [],
      "private_outputs": true,
      "collapsed_sections": [],
      "include_colab_link": true
    },
    "language_info": {
      "codemirror_mode": {
        "name": "ipython",
        "version": 3
      },
      "file_extension": ".py",
      "mimetype": "text/x-python",
      "name": "python",
      "nbconvert_exporter": "python",
      "pygments_lexer": "ipython3",
      "version": "3.6.5"
    },
    "kernelspec": {
      "name": "python3",
      "display_name": "Python 3"
    }
  },
  "cells": [
    {
      "cell_type": "markdown",
      "metadata": {
        "id": "view-in-github",
        "colab_type": "text"
      },
      "source": [
        "<a href=\"https://colab.research.google.com/github/ajankowski/python_tiny_workshop/blob/master/Tiny_Python_ALK_part_2.ipynb\" target=\"_parent\"><img src=\"https://colab.research.google.com/assets/colab-badge.svg\" alt=\"Open In Colab\"/></a>"
      ]
    },
    {
      "cell_type": "markdown",
      "metadata": {
        "id": "_Q2MxC7a0Bf6",
        "colab_type": "text"
      },
      "source": [
        "# Funkcje\n",
        "Funkcje to fragmenty kodu, które nakazują Pythonowi wykonać jakieś zadanie.\n",
        "Zalety tworzenia funkcji to:\n",
        "- wieloktorne wykorzystanie tego samego kawałka kodu! \n",
        "- budowa złożonych programów, z prostszych do przeanalizowania oraz napisania elementów\n",
        "- czytelność\n",
        "\n",
        "Funkcje składają się z trzech elementów:\n",
        "- nazwy funkcji\n",
        "- jej parametrów (tego co funkcja od nas otrzyma)\n",
        "- bloku kodu\n",
        "\n"
      ]
    },
    {
      "cell_type": "code",
      "metadata": {
        "id": "VQh5fdrI0Bf9",
        "colab_type": "code",
        "colab": {}
      },
      "source": [
        "#definicja funkcji (tworzy funkcje, ale jej nie wywołuje)\n",
        "def wielkie_litery(napis):\n",
        "    wielki_napis = napis.upper()\n",
        "    return wielki_napis\n",
        "\n",
        "#wywołanie funkcji\n",
        "wielkie_litery('kot')"
      ],
      "execution_count": null,
      "outputs": []
    },
    {
      "cell_type": "code",
      "metadata": {
        "id": "QEp9OjBVrjsm",
        "colab_type": "code",
        "colab": {}
      },
      "source": [
        "def drukuj(liczba):\n",
        "  print(liczba)\n",
        "\n",
        "def gry(x):\n",
        "    return 'mam w domu '+ str(x) +' gry'\n",
        "\n",
        "gry(drukuj(4))"
      ],
      "execution_count": null,
      "outputs": []
    },
    {
      "cell_type": "code",
      "metadata": {
        "id": "ilQ2tWZ-FFKV",
        "colab_type": "code",
        "colab": {}
      },
      "source": [
        "# jak porównujemy wartości\n",
        "\n"
      ],
      "execution_count": null,
      "outputs": []
    },
    {
      "cell_type": "markdown",
      "metadata": {
        "id": "RUGX-37P0BgH",
        "colab_type": "text"
      },
      "source": [
        "### Ćwiczenia e200\n",
        "\n",
        "stwórz funkcję która pyta o miasto zamieszkania (do wyboru jest kraków i warszawa) i podaje fikcyjną pogodę\n",
        "\n",
        ">gdzie mieszkasz? warszawa  \n",
        "'dzisiaj w warszawie jest 20 stopni'\n",
        "\n",
        "co będzie jeśli ktoś poda inne miasto?"
      ]
    },
    {
      "cell_type": "code",
      "metadata": {
        "colab_type": "code",
        "id": "IbQvVoEM_b1J",
        "colab": {}
      },
      "source": [
        "# ćwiczenie\n",
        "\n",
        "def prognoza():\n",
        "    miasto = input('gdzie mieszkasz?\\n')\n",
        "    if miasto == 'warszawa':\n",
        "      print('w warszawie jest 20 stopni')\n",
        "    elif miasto == 'krakow':\n",
        "      print('w krakowie jak zwykle pada')\n",
        "    else:\n",
        "      print('masz do wyboru tylko kraków lub warszawę')\n"
      ],
      "execution_count": null,
      "outputs": []
    },
    {
      "cell_type": "code",
      "metadata": {
        "id": "jCVwz1JcwX5e",
        "colab_type": "code",
        "colab": {}
      },
      "source": [
        "prognoza()"
      ],
      "execution_count": null,
      "outputs": []
    },
    {
      "cell_type": "markdown",
      "metadata": {
        "id": "NOL0gu7DO8Yh",
        "colab_type": "text"
      },
      "source": [
        "### Live exercise\n",
        "Napisz program do odgadywania liczby.\n",
        "> Program wylosuje liczbę z zakresu 1-100 i po uzystkaniu twojej odpowiedzi napisze, czy odpowiedź jest:\n",
        "- prawidłowa\n",
        "- za niska\n",
        "- za wysoka"
      ]
    },
    {
      "cell_type": "code",
      "metadata": {
        "id": "I_jctthM_6Kq",
        "colab_type": "code",
        "colab": {}
      },
      "source": [
        "import random\n",
        "\n",
        "def gra():\n",
        "  do_odgadnięcia = random.randint(1, 100)\n",
        "  while True:\n",
        "    odpowiedz = input('o jakiej liczbie myślę?')\n",
        "    if odpowiedz == 'q':\n",
        "      print('dziękuję za grę')\n",
        "      break\n",
        "    else:\n",
        "      if not odpowiedz.isdigit():\n",
        "        print('to nie numer')\n",
        "        continue\n",
        "      elif int(odpowiedz) == do_odgadnięcia:\n",
        "        print('gratulacje')\n",
        "        break\n",
        "      elif int(odpowiedz) < do_odgadnięcia: \n",
        "        print('za mała liczba')\n",
        "      else:\n",
        "        print('za duża liczba')\n",
        "     \n"
      ],
      "execution_count": null,
      "outputs": []
    },
    {
      "cell_type": "markdown",
      "metadata": {
        "id": "l6kDWT4N0BcZ",
        "colab_type": "text"
      },
      "source": [
        "# Typy danych\n",
        "\n",
        "W pythonie mamy dostępne kilka typów danych, podstawowe z nich to:   \n",
        "- *int* - (integer) -liczby całkowite:  -99, -98,..., -2, -1, 0, 1, 2, ..., 98  \n",
        "- *float* - floating point -liczby rzeczywiste (zmiennoprzecinkowe):  0.2, 3.14, -0.8897  \n",
        "- *str* - tekst (string), tekstem jest dowolne wyrażenie w cudzysłowie pojedynczym lub podwójnym: 'python' lub \"python\""
      ]
    },
    {
      "cell_type": "code",
      "metadata": {
        "id": "fsxCpJvsFDnu",
        "colab_type": "code",
        "colab": {}
      },
      "source": [
        ""
      ],
      "execution_count": null,
      "outputs": []
    },
    {
      "cell_type": "code",
      "metadata": {
        "id": "JX4WNUeM0Bca",
        "colab_type": "code",
        "colab": {}
      },
      "source": [
        "liczba_calkowita = 6\n",
        "liczba_rzeczywista = 0.56"
      ],
      "execution_count": null,
      "outputs": []
    },
    {
      "cell_type": "code",
      "metadata": {
        "id": "1qRcU4-Y0Bcg",
        "colab_type": "code",
        "colab": {}
      },
      "source": [
        "type(liczba_calkowita)\n",
        "type(liczba_rzeczywista)"
      ],
      "execution_count": null,
      "outputs": []
    },
    {
      "cell_type": "markdown",
      "metadata": {
        "id": "1qsgmRLdzLDU",
        "colab_type": "text"
      },
      "source": [
        "## Strings (tekst)"
      ]
    },
    {
      "cell_type": "code",
      "metadata": {
        "id": "KD9DauLR0Bcq",
        "colab_type": "code",
        "colab": {}
      },
      "source": [
        "adres = 'ulica Jasna 44/7'"
      ],
      "execution_count": null,
      "outputs": []
    },
    {
      "cell_type": "code",
      "metadata": {
        "scrolled": true,
        "id": "4HNZQwTn0Bcx",
        "colab_type": "code",
        "colab": {}
      },
      "source": [
        "type(adres)"
      ],
      "execution_count": null,
      "outputs": []
    },
    {
      "cell_type": "code",
      "metadata": {
        "id": "n94zQQDx0Bc4",
        "colab_type": "code",
        "colab": {}
      },
      "source": [
        "napis[1:4]"
      ],
      "execution_count": null,
      "outputs": []
    },
    {
      "cell_type": "code",
      "metadata": {
        "id": "ZxFi_qHdw-Kx",
        "colab_type": "code",
        "colab": {}
      },
      "source": [
        "napis[-1]"
      ],
      "execution_count": null,
      "outputs": []
    },
    {
      "cell_type": "code",
      "metadata": {
        "id": "3gYnr4l90BdI",
        "colab_type": "code",
        "colab": {}
      },
      "source": [
        "n.split()"
      ],
      "execution_count": null,
      "outputs": []
    },
    {
      "cell_type": "markdown",
      "metadata": {
        "id": "paXvmvZSFDv5",
        "colab_type": "text"
      },
      "source": [
        "### Live exercise\n",
        "Zapytaj kogoś o imię i nazwisko i przywitaj go jego imieniem\n",
        "> oczekiwany rezultat:  \n",
        "imput: georgios kardaras  \n",
        "'cześć georgios'"
      ]
    },
    {
      "cell_type": "markdown",
      "metadata": {
        "id": "nupos-OT_qxM",
        "colab_type": "text"
      },
      "source": [
        "### Ćwiczenia e130 (to change YAML)\n",
        "Policz ilość słów w podanym zdaniu\n",
        "\n",
        "> ala ma kota > 3"
      ]
    },
    {
      "cell_type": "code",
      "metadata": {
        "id": "aIH_HFytuZiW",
        "colab_type": "code",
        "colab": {}
      },
      "source": [
        "# split może też przyjąć dowolny parametr\n",
        "\n",
        "kot = 'ala ma kota: kot jest glupi'\n",
        "\n",
        "kot.split(':')"
      ],
      "execution_count": null,
      "outputs": []
    },
    {
      "cell_type": "markdown",
      "metadata": {
        "colab_type": "text",
        "id": "KSKRjbLh_9xN"
      },
      "source": [
        "### Ćwiczenia e140\n",
        "Oddziel typ pliku od jego nazwy, na przykład: \n",
        "> obrazek.jpg > jpg  \n",
        "dane.xlsx > xlsx"
      ]
    },
    {
      "cell_type": "code",
      "metadata": {
        "colab_type": "code",
        "id": "kaIPNIleAVxe",
        "colab": {}
      },
      "source": [
        "# ćwiczenie\n"
      ],
      "execution_count": null,
      "outputs": []
    },
    {
      "cell_type": "markdown",
      "metadata": {
        "id": "Hq7k1dXT0Bdb",
        "colab_type": "text"
      },
      "source": [
        "# Struktury danych w Pythonie\n",
        "- listy - grupują wartości dowolnego typu (tekst, liczby, inne listy, ....)\n",
        "    - tworzymy je uzywając kwadratowych nawiasow []\n",
        "- tuples (krotki) - działają tak jak listy, ale sa niezmienialne (immutable)\n",
        "    - tworzymy je uzywając nawiasów okrąglych () \n"
      ]
    },
    {
      "cell_type": "markdown",
      "metadata": {
        "id": "ucaxKPNJ0Bdd",
        "colab_type": "text"
      },
      "source": [
        "- slowniki - grupują wartości typu klucz-wartość\n",
        "    - tworzymy je używając nawiasów {}\n",
        "- sety\n",
        "    - tworzone przy uzyciu słowa kluczowego **set**\n",
        "    - używamy nawiasów **{}**\n",
        "\n",
        "Metody dostepne w przypadku struktur danych sa w wiekszosci wypadkow podobne.\n",
        "Na przydlad len() pokaże nam dlugość zarówno listy, tupli jak i setu."
      ]
    },
    {
      "cell_type": "markdown",
      "metadata": {
        "id": "AnL8AjLO0Bdg",
        "colab_type": "text"
      },
      "source": [
        "## Listy i tuple"
      ]
    },
    {
      "cell_type": "code",
      "metadata": {
        "id": "3PITxa-L0Bdj",
        "colab_type": "code",
        "colab": {}
      },
      "source": [
        "muzyka_noworodek = [] #pusta lista\n",
        "muzyka_bobas = ['mama śpiewa', 'okropna piosenka w radiu']\n",
        "muzyka_nastolatek = ['prawdziwa muzyka', 'muzyka której nienawidzę', 'nie odzywaj się do mnie']\n",
        "\n",
        "szczesliwe_liczby = [7, 21]\n",
        "o_czym_mysle = [ 'kurczak', 'wakacje', 32000, ['nowe opony', 550]]"
      ],
      "execution_count": null,
      "outputs": []
    },
    {
      "cell_type": "code",
      "metadata": {
        "id": "Di-_qmOs0Bd_",
        "colab_type": "code",
        "colab": {}
      },
      "source": [
        "muzyka_bobas.remove('mama śpiewa')\n",
        "muzyka_bobas.append('muzyka którą kocham')\n"
      ],
      "execution_count": null,
      "outputs": []
    },
    {
      "cell_type": "code",
      "metadata": {
        "id": "Jm6dg7zSHKbA",
        "colab_type": "code",
        "colab": {}
      },
      "source": [
        "muzyka_bobas"
      ],
      "execution_count": null,
      "outputs": []
    },
    {
      "cell_type": "code",
      "metadata": {
        "scrolled": true,
        "id": "5STPVhhI0BeQ",
        "colab_type": "code",
        "colab": {}
      },
      "source": [
        "# możemy wybrać jeden lub więcej elementów z listy\n",
        "lista_2[0] "
      ],
      "execution_count": null,
      "outputs": []
    },
    {
      "cell_type": "code",
      "metadata": {
        "id": "eZvVl_Kwx1ER",
        "colab_type": "code",
        "colab": {}
      },
      "source": [
        "# usuwanie elementu z listy \n",
        "print(lista)\n",
        "del lista[1]"
      ],
      "execution_count": null,
      "outputs": []
    },
    {
      "cell_type": "code",
      "metadata": {
        "id": "GN_9BL97yT1R",
        "colab_type": "code",
        "colab": {}
      },
      "source": [
        "print(lista)"
      ],
      "execution_count": null,
      "outputs": []
    },
    {
      "cell_type": "code",
      "metadata": {
        "id": "UMfTTbV50Bds",
        "colab_type": "code",
        "colab": {}
      },
      "source": [
        "muzyka = ('prawdziwa muzyka', 'muzyka której nienawidzę')"
      ],
      "execution_count": null,
      "outputs": []
    },
    {
      "cell_type": "code",
      "metadata": {
        "scrolled": true,
        "id": "h91a1aH00Bdy",
        "colab_type": "code",
        "colab": {}
      },
      "source": [
        "#roznice miedzyy listą i tuplą - tupli nie można zmienic\n",
        "muzyka.remove('muzyka której nienawidzę')"
      ],
      "execution_count": null,
      "outputs": []
    },
    {
      "cell_type": "code",
      "metadata": {
        "id": "DBX2idGHIznq",
        "colab_type": "code",
        "colab": {}
      },
      "source": [
        "muzyka.append('blues')"
      ],
      "execution_count": null,
      "outputs": []
    },
    {
      "cell_type": "code",
      "metadata": {
        "id": "Tqcdn6Z40BeY",
        "colab_type": "code",
        "colab": {}
      },
      "source": [
        "\"\"\"Dostęp do elementów listy lub tupli mamy uzywając ich indeksow w nawiasach [],  \n",
        "lub tnąc liste na kawałki używająć indeksów w nawiasach [] i ':' \n",
        "\"\"\"\"\"\n",
        "lista_3  = [\"zmienna_1\", 2, 3.14]\n",
        "\n",
        "print(lista_3[0])   # elementy listy numerujemy od '0'\n",
        "print(lista_3[0:2])\n",
        "print(lista_3[-1])\n",
        "print(lista_3[1:])\n",
        "print(lista_3[::2])\n",
        "print(len(lista_3))  # dlugosc listy"
      ],
      "execution_count": null,
      "outputs": []
    },
    {
      "cell_type": "code",
      "metadata": {
        "scrolled": true,
        "id": "yD3sh6K00Bef",
        "colab_type": "code",
        "colab": {}
      },
      "source": [
        "# po liście można też iterować for -- dostajemy wtedy jej elementy\n",
        "for element in lista_3:\n",
        "    print(element)"
      ],
      "execution_count": null,
      "outputs": []
    },
    {
      "cell_type": "code",
      "metadata": {
        "id": "1bLmpAYtwhnh",
        "colab_type": "code",
        "colab": {}
      },
      "source": [
        "samochody = [['scania', 'autosan'], ['fiat', 'ford'], [1, 3, [2, 6, 8]]]"
      ],
      "execution_count": null,
      "outputs": []
    },
    {
      "cell_type": "markdown",
      "metadata": {
        "id": "KZxh_1Ds0Be6",
        "colab_type": "text"
      },
      "source": [
        "### Ćwiczenia e150\n",
        "stwórz listę zadań do wykonania i wydrukuj jej trzeci element"
      ]
    },
    {
      "cell_type": "code",
      "metadata": {
        "colab_type": "code",
        "id": "HkeV-tDt_P1J",
        "colab": {}
      },
      "source": [
        "# ćwiczenie"
      ],
      "execution_count": null,
      "outputs": []
    },
    {
      "cell_type": "markdown",
      "metadata": {
        "id": "NIrbyyS6w515",
        "colab_type": "text"
      },
      "source": [
        "### Live exercise\n",
        "Podajcie drugą pozycję z nabiału i trzecią z pieczywa\n",
        "```\n",
        "koszyk = [['mleko', 'ser'], ['chleb', 'bulki','rogaliki'], [3, 7, 6]]\n",
        "```\n",
        ">oczekiwany rezultat:  \n",
        "'ser'  \n",
        "'rogaliki'"
      ]
    },
    {
      "cell_type": "markdown",
      "metadata": {
        "id": "XLNoaRum0Bez",
        "colab_type": "text"
      },
      "source": [
        "### Live exercise\n",
        "teraz stwórzcie listę zakupów dodając do niej pierwszy element z nabiału i całe pieczywo z poprzedniej listy\n",
        "\n",
        ">oczekiwany rezultat:\n",
        "```\n",
        "['mleko', 'chleb', 'bulki','rogaliki']\n",
        "```"
      ]
    },
    {
      "cell_type": "markdown",
      "metadata": {
        "id": "SK9gQelRuldj",
        "colab_type": "text"
      },
      "source": [
        "### Live exercise\n",
        "Napiszcie funkcję która wydrukuje nazwy plików zdjęciowych z poniższej listy: \n",
        "``` \n",
        "pliki = [ 'wakacje.jpg', 'selfie.jpg', 'podanie.txt', 'raport.xls' ]\n",
        "``` \n",
        ">oczekiwany wynik:  \n",
        "'wakacje.jpg'  \n",
        "'selfie.jpg'"
      ]
    },
    {
      "cell_type": "code",
      "metadata": {
        "colab_type": "code",
        "id": "AeKGwHD3AVH-",
        "colab": {}
      },
      "source": [
        "# ćwiczenie"
      ],
      "execution_count": null,
      "outputs": []
    },
    {
      "cell_type": "markdown",
      "metadata": {
        "id": "FnRL3SUr0Be7",
        "colab_type": "text"
      },
      "source": [
        "## Słowniki\n",
        "\n",
        "Słownik to kolekcja różnych elementów w którek każdy element ma klucz i odpowiadającą mu wartość.\n",
        "To tak mini baza danych."
      ]
    },
    {
      "cell_type": "code",
      "metadata": {
        "id": "11fd8Id40Be9",
        "colab_type": "code",
        "colab": {}
      },
      "source": [
        "slownik= {}  #pusty slownik\n",
        "slownik = dict()  #pusty slownik\n",
        "\n",
        "slownik = {\"klucz\": \"zmienna\", 2: 3, \"pi\": 3.14}\n",
        "slownik['klucz']"
      ],
      "execution_count": null,
      "outputs": []
    },
    {
      "cell_type": "code",
      "metadata": {
        "id": "nIpN_uiB0BfF",
        "colab_type": "code",
        "colab": {}
      },
      "source": [
        "slownik[\"pi\"] = 3.15 #tak zmieniamy wartosc zmiennych w slowniku\n",
        "slownik['pi']"
      ],
      "execution_count": null,
      "outputs": []
    },
    {
      "cell_type": "markdown",
      "metadata": {
        "id": "4prQP1Gz0BcX",
        "colab_type": "text"
      },
      "source": [
        "### Ćwiczenia e160\n",
        "\n",
        "Napisz listę zakupow z cenami produktów, a nastepnie policz i wyswietl całkowity koszt. \n",
        "> na przykład:   \n",
        "burak 2  \n",
        "kaczka 4.5    \n",
        "**total 6.5**\n"
      ]
    },
    {
      "cell_type": "code",
      "metadata": {
        "id": "0dv0l6S9xLtp",
        "colab_type": "code",
        "colab": {}
      },
      "source": [
        "zakupy = {'burak':2,\n",
        "          'kaczka':3,\n",
        "          'marchewka':8}\n",
        "\n",
        "total = zakupy['burak'] + zakupy['kaczka']\n",
        "\n",
        "print('total', total)\n",
        "\n",
        "total_2 = 0\n",
        "for key in zakupy:\n",
        "  total_2 += zakupy[key]\n",
        "\n",
        "print('total_2', total_2)"
      ],
      "execution_count": null,
      "outputs": []
    },
    {
      "cell_type": "code",
      "metadata": {
        "colab_type": "code",
        "id": "Zx-6h3S4_OdJ",
        "colab": {}
      },
      "source": [
        "# ćwiczenie\n",
        "\n",
        "import requests\n",
        "odpowiedz = requests.get('http://api.nbp.pl/api/exchangerates/rates/a/usd/')\n",
        "odp = odpowiedz.json()"
      ],
      "execution_count": null,
      "outputs": []
    },
    {
      "cell_type": "code",
      "metadata": {
        "id": "JBDZHZqqJnKs",
        "colab_type": "code",
        "colab": {}
      },
      "source": [
        "odp"
      ],
      "execution_count": null,
      "outputs": []
    },
    {
      "cell_type": "markdown",
      "metadata": {
        "id": "pGtpPGbw0Bgg",
        "colab_type": "text"
      },
      "source": [
        "# Zajęcia praktyczne"
      ]
    },
    {
      "cell_type": "markdown",
      "metadata": {
        "id": "bYUidAU20BgJ",
        "colab_type": "text"
      },
      "source": [
        "# web API\n"
      ]
    },
    {
      "cell_type": "markdown",
      "metadata": {
        "id": "Z8inm7yd0Bgi",
        "colab_type": "text"
      },
      "source": [
        "## Praca z plikami tekstowymi\n",
        "\n",
        "Praca z plikami w Pythonie jest bardzo prosta.  \n",
        "**open(name, mode)** zwraca obiekt z plikiem:\n",
        "- name - ścieżka do pliku\n",
        "- mode:  \n",
        "    'r' (read): otwieramy tylko do odczytu   \n",
        "    'w' (write): otwieramy tylko do pisania  \n",
        "    'a' (append): otwieramy do dopisywania (następne linijki)  "
      ]
    },
    {
      "cell_type": "code",
      "metadata": {
        "id": "MEbgelAZHXda",
        "colab_type": "code",
        "colab": {}
      },
      "source": [
        "!wget -O plik.txt https://www.w3.org/TR/PNG/iso_8859-1.txt "
      ],
      "execution_count": null,
      "outputs": []
    },
    {
      "cell_type": "code",
      "metadata": {
        "scrolled": true,
        "id": "i6DHuN_Q0Bgj",
        "colab_type": "code",
        "colab": {}
      },
      "source": [
        "with open('plik.txt', 'r') as f:\n",
        "    read_data = f.read()\n",
        "    print(read_data)"
      ],
      "execution_count": null,
      "outputs": []
    },
    {
      "cell_type": "code",
      "metadata": {
        "scrolled": true,
        "id": "RqzO_fDk0Bgr",
        "colab_type": "code",
        "colab": {}
      },
      "source": [
        "with open('plik.txt', 'r') as f:\n",
        "    for linia in f:\n",
        "        print(linia)\n",
        "        break"
      ],
      "execution_count": null,
      "outputs": []
    },
    {
      "cell_type": "code",
      "metadata": {
        "id": "9Ct_e8A20Bg3",
        "colab_type": "code",
        "colab": {}
      },
      "source": [
        "with open('plik.txt', 'w') as f:\n",
        "  f.write('dziala to nasze pisanie, czy nie?')"
      ],
      "execution_count": null,
      "outputs": []
    },
    {
      "cell_type": "code",
      "metadata": {
        "id": "Use2Bevj0Bg6",
        "colab_type": "code",
        "colab": {}
      },
      "source": [
        "with open('plik.txt','r') as f:\n",
        "    print(f.read())"
      ],
      "execution_count": null,
      "outputs": []
    },
    {
      "cell_type": "markdown",
      "metadata": {
        "colab_type": "text",
        "id": "l5pWCOvo-03u"
      },
      "source": [
        "### Ćwiczenia e240\n",
        "\n",
        "Utwórz plik w ktorym w kolejnych liniach będą koledzy i po przecinku ich miejsce zamieszkania\n",
        "\n",
        ">oczekiwany rezultat:  \n",
        "**plik koledzy.txt**  \n",
        "*marek, krakow*   \n",
        "*antek, poznan*   \n",
        "*zdzisiek, bydgoszcz*  "
      ]
    },
    {
      "cell_type": "code",
      "metadata": {
        "colab_type": "code",
        "id": "nXeU-BSg_FjO",
        "colab": {}
      },
      "source": [
        "# ćwiczenie"
      ],
      "execution_count": null,
      "outputs": []
    },
    {
      "cell_type": "markdown",
      "metadata": {
        "id": "cb6lenNHQOG4",
        "colab_type": "text"
      },
      "source": [
        "### Live exercise: plik z kolegami\n",
        "Write a program that reads input from a 'koledzy.txt' file your friends’ names and cities they live in.   \n",
        "Your program should store that in dictionary and calculate how many friends live in a given city.\n",
        "\n",
        ">oczekiwany rezultat:  \n",
        "input: antek  \n",
        "'warszawa'  \n",
        "input: krakow  \n",
        "'4 kolegow mieszka w krakowie'  "
      ]
    },
    {
      "cell_type": "code",
      "metadata": {
        "id": "ZZN5MIwDRtDo",
        "colab_type": "code",
        "colab": {}
      },
      "source": [
        "# ! pozwala przekazać komendę do wiersza poleceń komputera\n",
        "!ls  # ls w systemie linux wyświetla zawartość folderu w którym jesteśmy"
      ],
      "execution_count": null,
      "outputs": []
    },
    {
      "cell_type": "code",
      "metadata": {
        "id": "wghrOQPMS9Py",
        "colab_type": "code",
        "colab": {}
      },
      "source": [
        "!cd sample_data # cd + nazwa folderu zmienia folder"
      ],
      "execution_count": null,
      "outputs": []
    },
    {
      "cell_type": "markdown",
      "metadata": {
        "id": "QCKqhBgdHEmE",
        "colab_type": "text"
      },
      "source": [
        "## Praca z plikami"
      ]
    },
    {
      "cell_type": "code",
      "metadata": {
        "id": "Bj6WYOoo0mq9",
        "colab_type": "code",
        "colab": {}
      },
      "source": [
        "import os\n",
        "os.listdir()"
      ],
      "execution_count": null,
      "outputs": []
    },
    {
      "cell_type": "code",
      "metadata": {
        "id": "2XjMx9GAOtC1",
        "colab_type": "code",
        "colab": {}
      },
      "source": [
        "# zmieniamy nazwy wszystkich plikow w folderze\n",
        "import os\n",
        "\n",
        "i = 1\n",
        "folder = '/content/sample_data/'\n",
        "\n",
        "for filename in os.listdir(folder):\n",
        "  plik = folder+filename\n",
        "  rozszerzenie = filename.split('.')[1]\n",
        "  new_name =\"kurs_\" + str(i)+'.'+ rozszerzenie\n",
        "  os.rename(plik, folder+new_name) \n",
        "  i += 1"
      ],
      "execution_count": null,
      "outputs": []
    },
    {
      "cell_type": "code",
      "metadata": {
        "colab_type": "code",
        "id": "sxIwQRK1_JPd",
        "colab": {}
      },
      "source": [
        "# ćwiczenie"
      ],
      "execution_count": null,
      "outputs": []
    },
    {
      "cell_type": "markdown",
      "metadata": {
        "id": "ZUtZQc8xKZCC",
        "colab_type": "text"
      },
      "source": [
        "### listing files"
      ]
    },
    {
      "cell_type": "code",
      "metadata": {
        "id": "dpxVsQ_oSCPo",
        "colab_type": "code",
        "colab": {}
      },
      "source": [
        "import os\n",
        "os.getcwd()"
      ],
      "execution_count": null,
      "outputs": []
    },
    {
      "cell_type": "code",
      "metadata": {
        "id": "lIR4xab4XUkK",
        "colab_type": "code",
        "colab": {}
      },
      "source": [
        "os.mkdir('test')"
      ],
      "execution_count": null,
      "outputs": []
    },
    {
      "cell_type": "code",
      "metadata": {
        "id": "a9I9dCbhXgUi",
        "colab_type": "code",
        "colab": {}
      },
      "source": [
        "!ls"
      ],
      "execution_count": null,
      "outputs": []
    },
    {
      "cell_type": "code",
      "metadata": {
        "id": "dxe3m0ZDc7F9",
        "colab_type": "code",
        "colab": {}
      },
      "source": [
        "os.chdir('/content/sample_data')\n",
        "# starsza metoda - nie rekomendowana, ale bardzo prosta :-)\n",
        "os.listdir()"
      ],
      "execution_count": null,
      "outputs": []
    },
    {
      "cell_type": "code",
      "metadata": {
        "id": "y4_kl3UhbFGC",
        "colab_type": "code",
        "colab": {}
      },
      "source": [
        "# List all files in a directory using scandir()\n",
        "os.chdir('/content')\n",
        "with os.scandir('.') as entries:\n",
        "    for entry in entries:\n",
        "      if entry.is_dir():\n",
        "          print('directory: ',entry.name)\n",
        "      if entry.is_file():\n",
        "          print('file: ',entry.name)"
      ],
      "execution_count": null,
      "outputs": []
    },
    {
      "cell_type": "code",
      "metadata": {
        "id": "iWjnIG-gYMWp",
        "colab_type": "code",
        "colab": {}
      },
      "source": [
        "os.chdir('/content/sample_data')\n",
        "\n",
        "with os.scandir('.') as entries:\n",
        "    for entry in entries:\n",
        "        if entry.is_dir():\n",
        "          print('directory: ',entry)\n",
        "        if entry.is_file():\n",
        "          print('file: ',entry.name)"
      ],
      "execution_count": null,
      "outputs": []
    },
    {
      "cell_type": "markdown",
      "metadata": {
        "id": "A4l_ReZFQMlN",
        "colab_type": "text"
      },
      "source": [
        "### moving folders"
      ]
    },
    {
      "cell_type": "code",
      "metadata": {
        "id": "3box8SgXLTla",
        "colab_type": "code",
        "colab": {}
      },
      "source": [
        "!pwd"
      ],
      "execution_count": null,
      "outputs": []
    },
    {
      "cell_type": "code",
      "metadata": {
        "id": "2_PvUKsELcxM",
        "colab_type": "code",
        "colab": {}
      },
      "source": [
        "!ls"
      ],
      "execution_count": null,
      "outputs": []
    },
    {
      "cell_type": "code",
      "metadata": {
        "id": "A7MCUh9bK8rt",
        "colab_type": "code",
        "colab": {}
      },
      "source": [
        "import shutil\n",
        "shutil.copytree('/content/sample_data/test', '/content' )"
      ],
      "execution_count": null,
      "outputs": []
    },
    {
      "cell_type": "markdown",
      "metadata": {
        "id": "xEfqHIyax4Z8",
        "colab_type": "text"
      },
      "source": [
        "### bulk renaming file for 'for'"
      ]
    },
    {
      "cell_type": "code",
      "metadata": {
        "id": "OxiSFJvADF8A",
        "colab_type": "code",
        "colab": {}
      },
      "source": [
        "import glob\n",
        "# os.chdir('sample_data')\n",
        "plik = glob.glob('*.csv')\n",
        "\n",
        "plik"
      ],
      "execution_count": null,
      "outputs": []
    },
    {
      "cell_type": "code",
      "metadata": {
        "id": "mLUtdRuuEbA8",
        "colab_type": "code",
        "colab": {}
      },
      "source": [
        "for i in range(9879689, 9879779):\n",
        "  with open('IMG'+str(i)+'.jpg', 'w') as f:\n",
        "    pass\n",
        "\n",
        "!ls"
      ],
      "execution_count": null,
      "outputs": []
    },
    {
      "cell_type": "code",
      "metadata": {
        "id": "f5bJ80PxGZoV",
        "colab_type": "code",
        "colab": {}
      },
      "source": [
        "pliki_do_zmiany = glob.glob('IMG?????9[3-7].jpg')\n",
        "pliki_do_zmiany"
      ],
      "execution_count": null,
      "outputs": []
    },
    {
      "cell_type": "code",
      "metadata": {
        "id": "4GGpzkyzHd7t",
        "colab_type": "code",
        "colab": {}
      },
      "source": [
        "for i, j in enumerate(pliki_do_zmiany, 100):\n",
        "  os.rename(j, 'wakacje'+str(i)+'.jpg')\n",
        "\n",
        "!ls  "
      ],
      "execution_count": null,
      "outputs": []
    },
    {
      "cell_type": "markdown",
      "metadata": {
        "id": "-DC7KW2J1L3N",
        "colab_type": "text"
      },
      "source": [
        "# Biblioteka request i web API\n",
        "\n"
      ]
    },
    {
      "cell_type": "code",
      "metadata": {
        "id": "PpI0G5qsT0su",
        "colab_type": "code",
        "colab": {}
      },
      "source": [
        "import requests\n",
        "\n",
        "r = requests.get(\"https://api.adviceslip.com/advice\")\n",
        "content = r.json()\n",
        "print(content)"
      ],
      "execution_count": null,
      "outputs": []
    },
    {
      "cell_type": "code",
      "metadata": {
        "id": "Q-gU_9PpRFWJ",
        "colab_type": "code",
        "colab": {}
      },
      "source": [
        "file = requests.get('http://helloworldbook3.com/data/message.txt')"
      ],
      "execution_count": null,
      "outputs": []
    },
    {
      "cell_type": "code",
      "metadata": {
        "id": "r5EyL7_5RgBQ",
        "colab_type": "code",
        "colab": {}
      },
      "source": [
        "print(file.text)"
      ],
      "execution_count": null,
      "outputs": []
    },
    {
      "cell_type": "markdown",
      "metadata": {
        "id": "0VGbtr-xFYz6",
        "colab_type": "text"
      },
      "source": [
        "### Ćwiczenia e190\n",
        "Napisz funkcję która zwróci żart z podanym jej słowem ze strony https://api.chucknorris.io/  \n",
        "\n",
        "**Opcjonalnie**, jeśli żartu nie ma, napisze, że żart z tym słowem nie istnieje."
      ]
    },
    {
      "cell_type": "markdown",
      "metadata": {
        "id": "WHYOTrMMzgHA",
        "colab_type": "text"
      },
      "source": [
        ""
      ]
    },
    {
      "cell_type": "code",
      "metadata": {
        "id": "dK93YQqQEcOO",
        "colab_type": "code",
        "colab": {}
      },
      "source": [
        "# ćwiczenie\n",
        "hint('e190', 1)"
      ],
      "execution_count": null,
      "outputs": []
    },
    {
      "cell_type": "markdown",
      "metadata": {
        "id": "j7rxX9x7Cqq4",
        "colab_type": "text"
      },
      "source": [
        "### Ćwiczenia e170\n",
        "Używając API NBP (http://api.nbp.pl) wydrukuj kurs wybranej waluty z dzisiaj (symbol waluty, datę i  jej kurs)\n",
        "\n",
        ">oczekiwany rezultat:  \n",
        "'USD, 2020-04-02, 3.85'\n"
      ]
    },
    {
      "cell_type": "markdown",
      "metadata": {
        "colab_type": "text",
        "id": "o9Dndv-cdKKK"
      },
      "source": [
        "### Ćwiczenia e260\n",
        "Stwórz własnego psa i spraw, żeby pomachał ogonem\n"
      ]
    },
    {
      "cell_type": "code",
      "metadata": {
        "colab_type": "code",
        "id": "BrgR3G_R_NCV",
        "colab": {}
      },
      "source": [
        "# ćwiczenie"
      ],
      "execution_count": null,
      "outputs": []
    },
    {
      "cell_type": "markdown",
      "metadata": {
        "colab_type": "text",
        "id": "Bkg-3MU6_cjO"
      },
      "source": [
        "# Egzamin końcowy e280\n",
        "\n",
        " Randomly generate a 4-digit number.  \n",
        " Ask the user to guess a 4-digit number. \n",
        "\n",
        "> For every digit that the user guessed correctly in the correct place, they have a “cow”.  \n",
        " For every digit the user guessed correctly in the wrong place is a “bull”  \n",
        " Every time the user makes a guess, tell them how many “cows” and “bulls” they have.  \n",
        " Once the user guesses the correct number, the game is over.  \n",
        "\n",
        " Keep track of the number of guesses the user makes throughout teh game and tell the user at the end.\n",
        "   \n",
        "** Say the number generated by the computer is 1038. An example interaction could look like this:** \n",
        "```\n",
        "   Welcome to the Cows and Bulls Game! \n",
        "   Enter a number: \n",
        "   >>> 1234\n",
        "   2 cows, 0 bulls\n",
        "   >>> 1256\n",
        "   1 cow, 1 bull\n",
        "   ...\n",
        "```"
      ]
    },
    {
      "cell_type": "code",
      "metadata": {
        "id": "8vdMPnEDUFUd",
        "colab_type": "code",
        "colab": {}
      },
      "source": [
        "# exercise"
      ],
      "execution_count": null,
      "outputs": []
    }
  ]
}