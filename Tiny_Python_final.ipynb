{
  "nbformat": 4,
  "nbformat_minor": 0,
  "metadata": {
    "colab": {
      "name": "Tiny_Python_final.ipynb",
      "provenance": [],
      "private_outputs": true,
      "collapsed_sections": [],
      "include_colab_link": true
    },
    "language_info": {
      "codemirror_mode": {
        "name": "ipython",
        "version": 3
      },
      "file_extension": ".py",
      "mimetype": "text/x-python",
      "name": "python",
      "nbconvert_exporter": "python",
      "pygments_lexer": "ipython3",
      "version": "3.6.5"
    },
    "kernelspec": {
      "name": "python3",
      "display_name": "Python 3"
    }
  },
  "cells": [
    {
      "cell_type": "markdown",
      "metadata": {
        "id": "view-in-github",
        "colab_type": "text"
      },
      "source": [
        "<a href=\"https://colab.research.google.com/github/ajankowski/python_tiny_workshop/blob/master/Tiny_Python_final.ipynb\" target=\"_parent\"><img src=\"https://colab.research.google.com/assets/colab-badge.svg\" alt=\"Open In Colab\"/></a>"
      ]
    },
    {
      "cell_type": "code",
      "metadata": {
        "id": "KfejdzPWBj6z",
        "colab_type": "code",
        "colab": {}
      },
      "source": [
        "#@title powrót z wakacji { display-mode: \"form\" }\n",
        "for i in range(9879689, 9879779):\n",
        "  with open('IMG'+str(i)+'.jpg', 'w') as f:\n",
        "    pass"
      ],
      "execution_count": 0,
      "outputs": []
    },
    {
      "cell_type": "code",
      "metadata": {
        "id": "MxH2yCsCB7Gu",
        "colab_type": "code",
        "colab": {}
      },
      "source": [
        "for i in range(9879689, 9879779):\n",
        "  with open('IMG'+str(i)+'.jpg', 'w') as f:\n",
        "    pass"
      ],
      "execution_count": 0,
      "outputs": []
    },
    {
      "cell_type": "markdown",
      "metadata": {
        "id": "5zk32T8F0Bbj",
        "colab_type": "text"
      },
      "source": [
        "<img src=\"https://www.python.org/static/community_logos/python-logo-master-v3-TM.png\" align=\"center\" width='500'>\n",
        "\n",
        "# Python\n",
        "to jeden z najpopularniejszych i najlatwiejszych do nauczenia się języków programowania.  \n",
        "Kod w języku Python jest krótki i czytelny, nie pozostawia wątpliwości co do sposobu działania.  \n",
        "Dodatkowy bonus - jest to język nauki i sztucznej inteligencji :-)"
      ]
    },
    {
      "cell_type": "code",
      "metadata": {
        "id": "X8ldJy1ju4KJ",
        "colab_type": "code",
        "colab": {}
      },
      "source": [
        "!git clone https://github.com/ajankowski/python_tiny_workshop.git\n",
        "!mv /content/python_tiny_workshop/solutions.yaml /content\n",
        "%run /content/python_tiny_workshop/solutions.py"
      ],
      "execution_count": 0,
      "outputs": []
    },
    {
      "cell_type": "code",
      "metadata": {
        "id": "Cg26hPB1yNrU",
        "colab_type": "code",
        "colab": {}
      },
      "source": [
        "# funkcja do wyświetlenia odpowiedzi, w miejsce 'e220' wstaw numer ćwiczenia\n",
        "hint('e220', 1)"
      ],
      "execution_count": 0,
      "outputs": []
    },
    {
      "cell_type": "markdown",
      "metadata": {
        "id": "Zj8qA1FdtEva",
        "colab_type": "text"
      },
      "source": [
        "# Co jeszcze potrafi Python?"
      ]
    },
    {
      "cell_type": "code",
      "metadata": {
        "id": "S1m7LTsntPQU",
        "colab_type": "code",
        "colab": {}
      },
      "source": [
        "3*4 "
      ],
      "execution_count": 0,
      "outputs": []
    },
    {
      "cell_type": "code",
      "metadata": {
        "id": "s0SMA-bMtPdf",
        "colab_type": "code",
        "colab": {}
      },
      "source": [
        "'ala'+'bama'"
      ],
      "execution_count": 0,
      "outputs": []
    },
    {
      "cell_type": "code",
      "metadata": {
        "id": "Z3S5fOm6toFQ",
        "colab_type": "code",
        "colab": {}
      },
      "source": [
        "'kot'"
      ],
      "execution_count": 0,
      "outputs": []
    },
    {
      "cell_type": "code",
      "metadata": {
        "id": "2cJySvLztPm3",
        "colab_type": "code",
        "colab": {}
      },
      "source": [
        "20*'kot'"
      ],
      "execution_count": 0,
      "outputs": []
    },
    {
      "cell_type": "code",
      "metadata": {
        "id": "F7greN77tPuy",
        "colab_type": "code",
        "colab": {}
      },
      "source": [
        "pies"
      ],
      "execution_count": 0,
      "outputs": []
    },
    {
      "cell_type": "markdown",
      "metadata": {
        "id": "VvJVALV5Ov5D",
        "colab_type": "text"
      },
      "source": [
        "# Pierwszy prawdziwy program!"
      ]
    },
    {
      "cell_type": "code",
      "metadata": {
        "id": "zDV7Nwc89PpW",
        "colab_type": "code",
        "colab": {}
      },
      "source": [
        "print('hello world')"
      ],
      "execution_count": 0,
      "outputs": []
    },
    {
      "cell_type": "markdown",
      "metadata": {
        "id": "f1qkNkultP2S",
        "colab_type": "text"
      },
      "source": [
        "# Live exercise\n",
        "Wyświetl na ekranie dowolny komunikat"
      ]
    },
    {
      "cell_type": "code",
      "metadata": {
        "id": "k_TcYaEytP-r",
        "colab_type": "code",
        "colab": {}
      },
      "source": [
        ""
      ],
      "execution_count": 0,
      "outputs": []
    },
    {
      "cell_type": "markdown",
      "metadata": {
        "id": "bP9DSAAY0Bbl",
        "colab_type": "text"
      },
      "source": [
        "## Syntax (struktura, uporządkowanie słów w zdaniu - gramatyka Pythona)\n",
        "- Bloki kodu oddzielone są wcięciami (stosuje się 4 spacje, nie jest to konieczne, ale musimy być konsekwentni, tzn. kolejne wcięcia muszą być takie same, linia bez wcięcia znajdować się będzie poza blokiem).\n",
        "- Wyrażenia które wymagają wcięć zakończone są dwukropkiem **:**\n",
        "- Ważna jest wielkość liter.\n",
        "- Komentarze w kodzie zaczynamy od znaku #\n",
        "\n",
        "Napiszcie w komórce poniżej jakiś komentarz"
      ]
    },
    {
      "cell_type": "code",
      "metadata": {
        "id": "rgvwa4fCPHTL",
        "colab_type": "code",
        "colab": {}
      },
      "source": [
        "# wszystko od '#' do końca wiersza to komentarz (Python go pomija)\n",
        "napis = 'brawo' # komentarz może zacząć się nie-na-początku wiersza"
      ],
      "execution_count": 0,
      "outputs": []
    },
    {
      "cell_type": "markdown",
      "metadata": {
        "id": "zX5CSbGx0Bbn",
        "colab_type": "text"
      },
      "source": [
        "# Zmienne\n",
        "Zmienna = miejsce, gdzie komputer przechowuje dane  \n",
        "Zmienne przypisujemy do nazw znakiem rowności **=** , a testujemy czy dane są równe znakiem **==**"
      ]
    },
    {
      "cell_type": "code",
      "metadata": {
        "id": "AFeV6xAK0Bbq",
        "colab_type": "code",
        "colab": {}
      },
      "source": [
        "kot = 3\n",
        "pies = 7\n"
      ],
      "execution_count": 0,
      "outputs": []
    },
    {
      "cell_type": "code",
      "metadata": {
        "scrolled": true,
        "id": "_COkZ9ns0Bbz",
        "colab_type": "code",
        "colab": {}
      },
      "source": [
        "kot + pies"
      ],
      "execution_count": 0,
      "outputs": []
    },
    {
      "cell_type": "code",
      "metadata": {
        "id": "RMfMdSAk0Bb_",
        "colab_type": "code",
        "colab": {}
      },
      "source": [
        "kot == 3\n",
        "# kot == pies"
      ],
      "execution_count": 0,
      "outputs": []
    },
    {
      "cell_type": "markdown",
      "metadata": {
        "id": "zObTyZBXOZun",
        "colab_type": "text"
      },
      "source": [
        "### Live exercise \n",
        "\n",
        "Napiszcie ile macie jabłek i gruszek, a potem policzcie ile macie owoców."
      ]
    },
    {
      "cell_type": "code",
      "metadata": {
        "id": "L5nlcdr10BcI",
        "colab_type": "code",
        "colab": {}
      },
      "source": [
        "napis_1 = 'hallo'\n",
        "napis_2 = \"world!\"\n",
        "\n",
        "napis_3 = napis_1 + napis_2 "
      ],
      "execution_count": 0,
      "outputs": []
    },
    {
      "cell_type": "code",
      "metadata": {
        "scrolled": true,
        "id": "nED5KZiX0BcO",
        "colab_type": "code",
        "colab": {}
      },
      "source": [
        "print(napis_3)"
      ],
      "execution_count": 0,
      "outputs": []
    },
    {
      "cell_type": "code",
      "metadata": {
        "id": "pEZEZPuiwhYq",
        "colab_type": "code",
        "colab": {}
      },
      "source": [
        "#  możemy też wyświetlać dłuższy tekst\n",
        "print('''dłuższy tekst\n",
        "w kilku \n",
        "linijkach''')"
      ],
      "execution_count": 0,
      "outputs": []
    },
    {
      "cell_type": "code",
      "metadata": {
        "id": "mVi3uSr9vwTi",
        "colab_type": "code",
        "colab": {}
      },
      "source": [
        "print('lecimy dalej)"
      ],
      "execution_count": 0,
      "outputs": []
    },
    {
      "cell_type": "markdown",
      "metadata": {
        "id": "wqOuEgaX5mx8",
        "colab_type": "text"
      },
      "source": [
        "### Symbole do wykonywanie działań matematycznych w Pythonie\n",
        "\n",
        "\n",
        "Operator | Operation | Example | Evaluates to . . .\n",
        "---|---|---|---|\n",
        "** | Exponent | 2 ** 3 | 8\n",
        " % | Modulus | 22 % 8 | 6\n",
        "// | Integer division | 22 // 8 | 2\n",
        "/  | Division | 22 / 8 | 2.75\n",
        "* | Multiplication | 3 * 5 | 15\n",
        "- | Subtraction | 5 - 2 | 3\n",
        "+ | Addition | 2 + 2 | 4"
      ]
    },
    {
      "cell_type": "markdown",
      "metadata": {
        "id": "6XmMxh7SRQAp",
        "colab_type": "text"
      },
      "source": [
        "### Live exercise\n",
        "\n",
        "Napiszcie 100 razy: Nie będę przeszkadzał w lekcji"
      ]
    },
    {
      "cell_type": "code",
      "metadata": {
        "id": "N7GSXAsQ7-HN",
        "colab_type": "code",
        "colab": {}
      },
      "source": [
        "# mozemy sprawdzić czy jakaś liczba dzieli sie przez inną \n",
        "8%3"
      ],
      "execution_count": 0,
      "outputs": []
    },
    {
      "cell_type": "code",
      "metadata": {
        "id": "kLz9oacR8YzS",
        "colab_type": "code",
        "colab": {}
      },
      "source": [
        "print('reszta z dzielenia 8/3 -> ' + str(8%3))"
      ],
      "execution_count": 0,
      "outputs": []
    },
    {
      "cell_type": "code",
      "metadata": {
        "scrolled": true,
        "id": "lc4Gr9zs0BdP",
        "colab_type": "code",
        "colab": {}
      },
      "source": [
        "imie = input('jak masz na imie? ')\n",
        "print('hej '+ imie)"
      ],
      "execution_count": 0,
      "outputs": []
    },
    {
      "cell_type": "markdown",
      "metadata": {
        "id": "CTmNpjrblsyq",
        "colab_type": "text"
      },
      "source": [
        "### Live exercise\n",
        "Spytaj użytkownika jak ma na imię i przywitaj go"
      ]
    },
    {
      "cell_type": "markdown",
      "metadata": {
        "id": "LQ5gCc740BdW",
        "colab_type": "text"
      },
      "source": [
        "### Ćwiczenia e110\n",
        "\n",
        "Poproś uzytkownika o wprowadzenie jakiejś cyfry i wydrukuj wynik mnożenia jej przez 3"
      ]
    },
    {
      "cell_type": "code",
      "metadata": {
        "colab_type": "code",
        "id": "E5VgrnBQ-5hV",
        "colab": {}
      },
      "source": [
        "# ćwiczenie\n"
      ],
      "execution_count": 0,
      "outputs": []
    },
    {
      "cell_type": "markdown",
      "metadata": {
        "colab_type": "text",
        "id": "F8OpGPAlM8nq"
      },
      "source": [
        "### Ćwiczenia e120\n",
        "\n",
        "Poproś uzytkownika o wprowadzenie imienia i wieku, odpowiedz mu w którym roku będzie miał 100 lat.  \n",
        "\n",
        "Oczekiwany wynik dla Bartka, 33 lata:  \n",
        "'Bartek będziesz miał sto lat w 2053 roku'"
      ]
    },
    {
      "cell_type": "code",
      "metadata": {
        "colab_type": "code",
        "id": "hAwIJN6xM9_C",
        "colab": {}
      },
      "source": [
        "# ćwiczenie\n",
        "hint('e120', 1)\n",
        "hint('e120', 140)"
      ],
      "execution_count": 0,
      "outputs": []
    },
    {
      "cell_type": "markdown",
      "metadata": {
        "id": "PwUzKsxi0BfL",
        "colab_type": "text"
      },
      "source": [
        "\n",
        "# Instrukcje sterujące\n",
        "\n",
        "W życiu często podejmujemy decyzje w zależności od sytuacji.  \n",
        "W programowaniu też mamy taką możliwość i służą do tego instrukcje sterujące.\n",
        "- if\n",
        "- for \n",
        "- while "
      ]
    },
    {
      "cell_type": "code",
      "metadata": {
        "id": "01X2cYCb0Bfy",
        "colab_type": "code",
        "colab": {}
      },
      "source": [
        "jestem_glodny = input('jestes glodny?\\n')\n",
        "\n",
        "if jestem_glodny == 'tak':\n",
        "    print('pizza')"
      ],
      "execution_count": 0,
      "outputs": []
    },
    {
      "cell_type": "code",
      "metadata": {
        "id": "ewkr6wPu36_v",
        "colab_type": "code",
        "colab": {}
      },
      "source": [
        "jestem_glodny = input('jestes glodny?\\n')jestem_glodny = input('jestes glodny?\\n')\n",
        "\n",
        "if jestem_glodny == 'tak':\n",
        "    print('pizza')\n",
        "    \n",
        "elif jestem_glodny == 'nie':\n",
        "    print('to popij')"
      ],
      "execution_count": 0,
      "outputs": []
    },
    {
      "cell_type": "code",
      "metadata": {
        "id": "8dx21QUo37XR",
        "colab_type": "code",
        "colab": {}
      },
      "source": [
        "jestem_glodny = input('jestes glodny?\\n')\n",
        "\n",
        "if jestem_glodny == 'tak':\n",
        "    print('pizza')\n",
        "    \n",
        "elif jestem_glodny == 'nie':\n",
        "    print('to popij')\n",
        "    \n",
        "else:\n",
        "    print('nie odpowiadasz? nie wiem co robić')"
      ],
      "execution_count": 0,
      "outputs": []
    },
    {
      "cell_type": "markdown",
      "metadata": {
        "id": "b1tva_j10Bf5",
        "colab_type": "text"
      },
      "source": [
        "###  Ćwiczenia e180\n",
        "zapytaj użytkownika o coś i wydrukuj różne komunikaty w zależności od odpowiedzi\n",
        "\n",
        ">jaką masz temperaturę?  \n",
        "37 > zapraszamy  \n",
        "38 > oj posiedzisz sobie w domu"
      ]
    },
    {
      "cell_type": "code",
      "metadata": {
        "colab_type": "code",
        "id": "jW8IwCWt_Yz6",
        "colab": {}
      },
      "source": [
        "# ćwiczenie\n"
      ],
      "execution_count": 0,
      "outputs": []
    },
    {
      "cell_type": "code",
      "metadata": {
        "id": "BNIjrYYV0BfX",
        "colab_type": "code",
        "colab": {}
      },
      "source": [
        "p\n",
        "'liczby = [0, 1, 2, 3, 4, 5, 6, 7, 8, 9]\n",
        " liczby = [0, 1, 2, 3, 4, 5, 6, 7, 8, 9]"
      ],
      "execution_count": 0,
      "outputs": []
    },
    {
      "cell_type": "code",
      "metadata": {
        "scrolled": true,
        "id": "SA0uXNFR0BfN",
        "colab_type": "code",
        "colab": {}
      },
      "source": [
        "# możemy użyć funkcji range(n), żeby wygenerować ciąg kolejnych liczb\n",
        "for liczba in range(5):\n",
        "    print(liczba)"
      ],
      "execution_count": 0,
      "outputs": []
    },
    {
      "cell_type": "code",
      "metadata": {
        "id": "gusteQW9oNZv",
        "colab_type": "code",
        "colab": {}
      },
      "source": [
        "liczby = []\n",
        "\n",
        "for liczba in range(100):\n",
        "  liczby.append(liczba)\n",
        "\n",
        "print(liczby)\n"
      ],
      "execution_count": 0,
      "outputs": []
    },
    {
      "cell_type": "code",
      "metadata": {
        "id": "OVOq2o-QoDRb",
        "colab_type": "code",
        "colab": {}
      },
      "source": [
        "for element in liczby:             # pętla for powtarza wielokrotnie tę samą operację\n",
        "    if element in (3, 4, 7, 9):    #if sprawdza czy jakas zaleznosc jest prawdziwa\n",
        "        print(element)\n",
        "    else:\n",
        "        print('co to jest??')"
      ],
      "execution_count": 0,
      "outputs": []
    },
    {
      "cell_type": "markdown",
      "metadata": {
        "id": "cEqkNE0gpGy3",
        "colab_type": "text"
      },
      "source": [
        "### Live Exercise\n",
        "Wydrukuj wszystkie liczby parzytste pomiędzy 20, a 40\n",
        "\n",
        ">oczekiwany rezultat:  \n",
        "20, 22, 24 ... 40"
      ]
    },
    {
      "cell_type": "code",
      "metadata": {
        "scrolled": true,
        "id": "OvCxtKz40Bfh",
        "colab_type": "code",
        "colab": {}
      },
      "source": [
        "# odliczanie\n",
        "\n",
        "i = 0\n",
        "while i < 6:\n",
        "    print(i)\n",
        "    i +=1\n",
        "    if i == 5:\n",
        "      print(i)\n",
        "      print('bum')\n",
        "      break"
      ],
      "execution_count": 0,
      "outputs": []
    },
    {
      "cell_type": "markdown",
      "metadata": {
        "id": "c7h0hrJIpHqa",
        "colab_type": "text"
      },
      "source": [
        "### Live Exercise\n",
        "Napisz kod który odliczy czas i wystartuje rakietę.\n",
        "\n",
        ">oczekiwany rezultat:  \n",
        "10  \n",
        "9  \n",
        "8  \n",
        "...  \n",
        "0  \n",
        "start  "
      ]
    },
    {
      "cell_type": "markdown",
      "metadata": {
        "id": "_Q2MxC7a0Bf6",
        "colab_type": "text"
      },
      "source": [
        "# Funkcje\n",
        "Funkcje to fragmenty kodu, które nakazują Pythonowi wykonać jakieś zadanie.\n",
        "Zalety tworzenia funkcji to:\n",
        "- wieloktorne wykorzystanie tego samego kawałka kodu! \n",
        "- budowa złożonych programów, z prostszych do przeanalizowania oraz napisania elementów\n",
        "- czytelność\n",
        "\n",
        "Funkcje składają się z trzech elementów:\n",
        "- nazwy funkcji\n",
        "- jej parametrów (tego co funkcja od nas otrzyma)\n",
        "- bloku kodu\n",
        "\n"
      ]
    },
    {
      "cell_type": "code",
      "metadata": {
        "id": "VQh5fdrI0Bf9",
        "colab_type": "code",
        "colab": {}
      },
      "source": [
        "#definicja funkcji (tworzy funkcje, ale jej nie wywołuje)\n",
        "def wielkie_litery(napis):\n",
        "    wielki_napis = napis.upper()\n",
        "    return wielki_napis\n",
        "\n",
        "#wywołanie funkcji\n",
        "wielkie_litery('kot')"
      ],
      "execution_count": 0,
      "outputs": []
    },
    {
      "cell_type": "code",
      "metadata": {
        "id": "QEp9OjBVrjsm",
        "colab_type": "code",
        "colab": {}
      },
      "source": [
        "def drukuj(liczba):\n",
        "  print(liczba)\n",
        "\n",
        "def gry(x):\n",
        "    return 'mam w domu '+ str(x) +' gry'\n",
        "\n",
        "gry(drukuj(4))"
      ],
      "execution_count": 0,
      "outputs": []
    },
    {
      "cell_type": "markdown",
      "metadata": {
        "id": "Cie6wrKSsefg",
        "colab_type": "text"
      },
      "source": [
        "### Live exercise\n",
        "Napiszcie funkcję która poprosi o podanie liczby i podniesie ją do kwadratu\n",
        "\n",
        ">'podaj liczbę:'  \n",
        "4  \n",
        "odpowiedź to 16"
      ]
    },
    {
      "cell_type": "markdown",
      "metadata": {
        "colab_type": "text",
        "id": "dFIu7cQUA0lC"
      },
      "source": [
        "### Ćwiczenia e220\n",
        "Stwórz funkcję liczącą powierzchnie koła o danej średnicy\n",
        "\n"
      ]
    },
    {
      "cell_type": "code",
      "metadata": {
        "colab_type": "code",
        "id": "VuuhrL2jA4U1",
        "colab": {}
      },
      "source": [
        "# ćwiczenie"
      ],
      "execution_count": 0,
      "outputs": []
    },
    {
      "cell_type": "markdown",
      "metadata": {
        "id": "B2Uv9W8htBAH",
        "colab_type": "text"
      },
      "source": [
        "### Live exercise\n",
        "A teraz sprawdzcie, czy użytkownik podał liczbę\n",
        ">podaj liczbę:  4  \n",
        "'odpowiedź to 16'  \n",
        "\n",
        ">podaj liczbę: kot   \n",
        "'proszę podać liczbę'"
      ]
    },
    {
      "cell_type": "markdown",
      "metadata": {
        "id": "cuBWIOkJDM4e",
        "colab_type": "text"
      },
      "source": [
        "### Live exercise\n",
        "\n",
        "program that converts minutes to hours. program will take a number and print out the conversion to hours and minutes.\n",
        "\n",
        "> oczekiwany rezultat:  \n",
        "input: 121  \n",
        "'Hours: 2, Minutes: 1'\n",
        "\n"
      ]
    },
    {
      "cell_type": "markdown",
      "metadata": {
        "id": "RUGX-37P0BgH",
        "colab_type": "text"
      },
      "source": [
        "### Ćwiczenia e200\n",
        "\n",
        "stwórz funkcję która pyta o miasto zamieszkania (do wyboru jest kraków i warszawa) i podaje fikcyjną pogodę\n",
        "\n",
        ">gdzie mieszkasz? warszawa  \n",
        "'dzisiaj w warszawie jest 20 stopni'\n",
        "\n",
        "co będzie jeśli ktoś poda inne miasto?"
      ]
    },
    {
      "cell_type": "code",
      "metadata": {
        "colab_type": "code",
        "id": "IbQvVoEM_b1J",
        "colab": {}
      },
      "source": [
        "# ćwiczenie\n",
        "\n",
        "def prognoza():\n",
        "    miasto = input('gdzie mieszkasz?\\n')\n",
        "    if miasto == 'warszawa':\n",
        "      print('w warszawie jest 20 stopni')\n",
        "    elif miasto == 'krakow':\n",
        "      print('w krakowie jak zwykle pada')\n",
        "    else:\n",
        "      print('masz do wyboru tylko kraków lub warszawę')\n"
      ],
      "execution_count": 0,
      "outputs": []
    },
    {
      "cell_type": "code",
      "metadata": {
        "id": "jCVwz1JcwX5e",
        "colab_type": "code",
        "colab": {}
      },
      "source": [
        "prognoza()"
      ],
      "execution_count": 0,
      "outputs": []
    },
    {
      "cell_type": "markdown",
      "metadata": {
        "id": "HhvuB2TMF05U",
        "colab_type": "text"
      },
      "source": [
        "# Błędy "
      ]
    },
    {
      "cell_type": "markdown",
      "metadata": {
        "id": "hz131McQO6re",
        "colab_type": "text"
      },
      "source": [
        "### Ćwiczenia e230\n",
        "Co tu jest nie tak?"
      ]
    },
    {
      "cell_type": "code",
      "metadata": {
        "id": "g6VPZsTwF3Jg",
        "colab_type": "code",
        "colab": {}
      },
      "source": [
        "print('blad)"
      ],
      "execution_count": 0,
      "outputs": []
    },
    {
      "cell_type": "code",
      "metadata": {
        "id": "HP554sBrF4rC",
        "colab_type": "code",
        "colab": {}
      },
      "source": [
        "pizza(salami)"
      ],
      "execution_count": 0,
      "outputs": []
    },
    {
      "cell_type": "code",
      "metadata": {
        "id": "BbTjSOlCGDvq",
        "colab_type": "code",
        "colab": {}
      },
      "source": [
        "def pizza(skladnik):\n",
        "  return f'dzisiaj pizza z {skladnik}'"
      ],
      "execution_count": 0,
      "outputs": []
    },
    {
      "cell_type": "code",
      "metadata": {
        "id": "g9Y29xy-Gkzn",
        "colab_type": "code",
        "colab": {}
      },
      "source": [
        "pizza()"
      ],
      "execution_count": 0,
      "outputs": []
    },
    {
      "cell_type": "code",
      "metadata": {
        "id": "RrLCw3-mGUZ_",
        "colab_type": "code",
        "colab": {}
      },
      "source": [
        "def szczekaj()\n",
        "  return 'hau, hau'"
      ],
      "execution_count": 0,
      "outputs": []
    },
    {
      "cell_type": "code",
      "metadata": {
        "id": "h655bCEpG95l",
        "colab_type": "code",
        "colab": {}
      },
      "source": [
        "def dzielenie(a, b):\n",
        "  return a/b"
      ],
      "execution_count": 0,
      "outputs": []
    },
    {
      "cell_type": "code",
      "metadata": {
        "id": "s01-Wgz2HO7N",
        "colab_type": "code",
        "colab": {}
      },
      "source": [
        "dzielenie(4, 0)"
      ],
      "execution_count": 0,
      "outputs": []
    },
    {
      "cell_type": "markdown",
      "metadata": {
        "id": "l6kDWT4N0BcZ",
        "colab_type": "text"
      },
      "source": [
        "# Typy danych\n",
        "\n",
        "W pythonie mamy dostępne kilka typów danych, podstawowe z nich to:   \n",
        "- *int* - (integer) -liczby całkowite:  -99, -98,..., -2, -1, 0, 1, 2, ..., 98  \n",
        "- *float* - floating point -liczby rzeczywiste (zmiennoprzecinkowe):  0.2, 3.14, -0.8897  \n",
        "- *str* - tekst (string), tekstem jest dowolne wyrażenie w cudzysłowie pojedynczym lub podwójnym: 'python' lub \"python\""
      ]
    },
    {
      "cell_type": "code",
      "metadata": {
        "id": "JX4WNUeM0Bca",
        "colab_type": "code",
        "colab": {}
      },
      "source": [
        "liczba_calkowita = 6\n",
        "liczba_rzeczywista = 0.56"
      ],
      "execution_count": 0,
      "outputs": []
    },
    {
      "cell_type": "code",
      "metadata": {
        "id": "1qRcU4-Y0Bcg",
        "colab_type": "code",
        "colab": {}
      },
      "source": [
        "type(liczba_calkowita)\n",
        "type(liczba_rzeczywista)"
      ],
      "execution_count": 0,
      "outputs": []
    },
    {
      "cell_type": "markdown",
      "metadata": {
        "id": "1qsgmRLdzLDU",
        "colab_type": "text"
      },
      "source": [
        "## Strings (tekst)"
      ]
    },
    {
      "cell_type": "code",
      "metadata": {
        "id": "KD9DauLR0Bcq",
        "colab_type": "code",
        "colab": {}
      },
      "source": [
        "napis = 'kuble'"
      ],
      "execution_count": 0,
      "outputs": []
    },
    {
      "cell_type": "code",
      "metadata": {
        "scrolled": true,
        "id": "4HNZQwTn0Bcx",
        "colab_type": "code",
        "colab": {}
      },
      "source": [
        "type(napis)"
      ],
      "execution_count": 0,
      "outputs": []
    },
    {
      "cell_type": "code",
      "metadata": {
        "id": "n94zQQDx0Bc4",
        "colab_type": "code",
        "colab": {}
      },
      "source": [
        "napis[1:4]"
      ],
      "execution_count": 0,
      "outputs": []
    },
    {
      "cell_type": "code",
      "metadata": {
        "id": "ZxFi_qHdw-Kx",
        "colab_type": "code",
        "colab": {}
      },
      "source": [
        "napis[-1]"
      ],
      "execution_count": 0,
      "outputs": []
    },
    {
      "cell_type": "markdown",
      "metadata": {
        "id": "paXvmvZSFDv5",
        "colab_type": "text"
      },
      "source": [
        "### Live exercise\n",
        "Get input from the user for two first and last names, mash them up (combine them in some way), and show the user the result\n",
        "> oczekiwany rezultat:  \n",
        "imput: john smith  \n",
        "'smohn jith'"
      ]
    },
    {
      "cell_type": "code",
      "metadata": {
        "id": "gd1RHweT0BdA",
        "colab_type": "code",
        "colab": {}
      },
      "source": [
        "n = 'ala ma kota'\n",
        "len(n) # liczba znaków w tekście"
      ],
      "execution_count": 0,
      "outputs": []
    },
    {
      "cell_type": "code",
      "metadata": {
        "id": "3gYnr4l90BdI",
        "colab_type": "code",
        "colab": {}
      },
      "source": [
        "n.split()"
      ],
      "execution_count": 0,
      "outputs": []
    },
    {
      "cell_type": "markdown",
      "metadata": {
        "id": "nupos-OT_qxM",
        "colab_type": "text"
      },
      "source": [
        "### Ćwiczenia e130 (to change YAML)\n",
        "Policz ilość słów w podanym zdaniu\n",
        "\n",
        "> ala ma kota > 3"
      ]
    },
    {
      "cell_type": "code",
      "metadata": {
        "id": "aIH_HFytuZiW",
        "colab_type": "code",
        "colab": {}
      },
      "source": [
        "# split może też przyjąć dowolny parametr\n",
        "\n",
        "kot = 'ala ma kota: kot jest glupi'\n",
        "\n",
        "kot.split(':')"
      ],
      "execution_count": 0,
      "outputs": []
    },
    {
      "cell_type": "markdown",
      "metadata": {
        "colab_type": "text",
        "id": "KSKRjbLh_9xN"
      },
      "source": [
        "### Ćwiczenia e140\n",
        "Oddziel typ pliku od jego nazwy, na przykład: \n",
        "> obrazek.jpg > jpg  \n",
        "dane.xlsx > xlsx"
      ]
    },
    {
      "cell_type": "code",
      "metadata": {
        "colab_type": "code",
        "id": "kaIPNIleAVxe",
        "colab": {}
      },
      "source": [
        "# ćwiczenie\n"
      ],
      "execution_count": 0,
      "outputs": []
    },
    {
      "cell_type": "markdown",
      "metadata": {
        "id": "Hq7k1dXT0Bdb",
        "colab_type": "text"
      },
      "source": [
        "# Struktury danych w Pythonie\n",
        "- listy - grupują wartości dowolnego typu (tekst, liczby, inne listy, ....)\n",
        "    - tworzymy je uzywając kwadratowych nawiasow []\n",
        "- tuples (krotki) - działają tak jak listy, ale sa niezmienialne (immutable)\n",
        "    - tworzymy je uzywając nawiasów okrąglych () \n"
      ]
    },
    {
      "cell_type": "markdown",
      "metadata": {
        "id": "ucaxKPNJ0Bdd",
        "colab_type": "text"
      },
      "source": [
        "- slowniki - grupują wartości typu klucz-wartość\n",
        "    - tworzymy je używając nawiasów {}\n",
        "- sety\n",
        "    - tworzone przy uzyciu słowa kluczowego **set**\n",
        "    - używamy nawiasów **{}**\n",
        "\n",
        "Metody dostepne w przypadku struktur danych sa w wiekszosci wypadkow podobne.\n",
        "Na przydlad len() pokaże nam dlugość zarówno listy, tupli jak i setu."
      ]
    },
    {
      "cell_type": "markdown",
      "metadata": {
        "id": "AnL8AjLO0Bdg",
        "colab_type": "text"
      },
      "source": [
        "## Listy i tuple"
      ]
    },
    {
      "cell_type": "code",
      "metadata": {
        "id": "3PITxa-L0Bdj",
        "colab_type": "code",
        "colab": {}
      },
      "source": [
        "lista = [] #pusta lista\n",
        "lista_2 = [3, [\"inna\", \"lista\"],\"a\", lista]"
      ],
      "execution_count": 0,
      "outputs": []
    },
    {
      "cell_type": "code",
      "metadata": {
        "id": "Di-_qmOs0Bd_",
        "colab_type": "code",
        "colab": {}
      },
      "source": [
        "lista.append(15)\n",
        "lista.append('slowo')\n",
        "lista"
      ],
      "execution_count": 0,
      "outputs": []
    },
    {
      "cell_type": "code",
      "metadata": {
        "scrolled": true,
        "id": "5STPVhhI0BeQ",
        "colab_type": "code",
        "colab": {}
      },
      "source": [
        "# możemy wybrać jeden lub więcej elementów z listy\n",
        "lista_2[0] "
      ],
      "execution_count": 0,
      "outputs": []
    },
    {
      "cell_type": "code",
      "metadata": {
        "id": "eZvVl_Kwx1ER",
        "colab_type": "code",
        "colab": {}
      },
      "source": [
        "# usuwanie elementu z listy \n",
        "print(lista)\n",
        "del lista[1]"
      ],
      "execution_count": 0,
      "outputs": []
    },
    {
      "cell_type": "code",
      "metadata": {
        "id": "GN_9BL97yT1R",
        "colab_type": "code",
        "colab": {}
      },
      "source": [
        "print(lista)"
      ],
      "execution_count": 0,
      "outputs": []
    },
    {
      "cell_type": "code",
      "metadata": {
        "id": "UMfTTbV50Bds",
        "colab_type": "code",
        "colab": {}
      },
      "source": [
        "tupla = (3, 7, 9)"
      ],
      "execution_count": 0,
      "outputs": []
    },
    {
      "cell_type": "code",
      "metadata": {
        "scrolled": true,
        "id": "h91a1aH00Bdy",
        "colab_type": "code",
        "colab": {}
      },
      "source": [
        "#roznice miedzyy listą i tuplą - tupli nie można zmienic\n",
        "tupla.append(10)"
      ],
      "execution_count": 0,
      "outputs": []
    },
    {
      "cell_type": "code",
      "metadata": {
        "id": "Tqcdn6Z40BeY",
        "colab_type": "code",
        "colab": {}
      },
      "source": [
        "\"\"\"Dostęp do elementów listy lub tupli mamy uzywając ich indeksow w nawiasach [],  \n",
        "lub tnąc liste na kawałki używająć indeksów w nawiasach [] i ':' \n",
        "\"\"\"\"\"\n",
        "lista_3  = [\"zmienna_1\", 2, 3.14]\n",
        "\n",
        "print(lista_3[0])   # elementy listy numerujemy od '0'\n",
        "print(lista_3[0:2])\n",
        "print(lista_3[-1])\n",
        "print(lista_3[1:])\n",
        "print(lista_3[::2])\n",
        "print(len(lista_3))  # dlugosc listy"
      ],
      "execution_count": 0,
      "outputs": []
    },
    {
      "cell_type": "code",
      "metadata": {
        "scrolled": true,
        "id": "yD3sh6K00Bef",
        "colab_type": "code",
        "colab": {}
      },
      "source": [
        "# po liście można też iterować for -- dostajemy wtedy jej elementy\n",
        "for element in lista_3:\n",
        "    print(element)"
      ],
      "execution_count": 0,
      "outputs": []
    },
    {
      "cell_type": "code",
      "metadata": {
        "id": "1bLmpAYtwhnh",
        "colab_type": "code",
        "colab": {}
      },
      "source": [
        "samochody = [['scania', 'autosan'], ['fiat', 'ford'], [1, 3, [2, 6, 8]]]"
      ],
      "execution_count": 0,
      "outputs": []
    },
    {
      "cell_type": "markdown",
      "metadata": {
        "id": "KZxh_1Ds0Be6",
        "colab_type": "text"
      },
      "source": [
        "### Ćwiczenia e150\n",
        "stwórz listę zadań do wykonania i wydrukuj jej trzeci element"
      ]
    },
    {
      "cell_type": "code",
      "metadata": {
        "colab_type": "code",
        "id": "HkeV-tDt_P1J",
        "colab": {}
      },
      "source": [
        "# ćwiczenie"
      ],
      "execution_count": 0,
      "outputs": []
    },
    {
      "cell_type": "markdown",
      "metadata": {
        "id": "NIrbyyS6w515",
        "colab_type": "text"
      },
      "source": [
        "### Live exercise\n",
        "Podajcie drugą pozycję z nabiału i trzecią z pieczywa\n",
        "```\n",
        "koszyk = [['mleko', 'ser'], ['chleb', 'bulki','rogaliki'], [3, 7, 6]]\n",
        "```\n",
        ">oczekiwany rezultat:  \n",
        "'ser'  \n",
        "'rogaliki'"
      ]
    },
    {
      "cell_type": "markdown",
      "metadata": {
        "id": "XLNoaRum0Bez",
        "colab_type": "text"
      },
      "source": [
        "### Live exercise\n",
        "teraz stwórzcie listę zakupów dodając do niej pierwszy element z nabiału i całe pieczywo z poprzedniej listy\n",
        "\n",
        ">oczekiwany rezultat:\n",
        "```\n",
        "['mleko', 'chleb', 'bulki','rogaliki']\n",
        "```"
      ]
    },
    {
      "cell_type": "markdown",
      "metadata": {
        "id": "SK9gQelRuldj",
        "colab_type": "text"
      },
      "source": [
        "### Live exercise\n",
        "Napiszcie funkcję która wydrukuje nazwy plików zdjęciowych z poniższej listy: \n",
        "``` \n",
        "pliki = [ 'wakacje.jpg', 'selfie.jpg', 'podanie.txt', 'raport.xls' ]\n",
        "``` \n",
        ">oczekiwany wynik:  \n",
        "'wakacje.jpg'  \n",
        "'selfie.jpg'"
      ]
    },
    {
      "cell_type": "code",
      "metadata": {
        "colab_type": "code",
        "id": "AeKGwHD3AVH-",
        "colab": {}
      },
      "source": [
        "# ćwiczenie"
      ],
      "execution_count": 0,
      "outputs": []
    },
    {
      "cell_type": "markdown",
      "metadata": {
        "id": "FnRL3SUr0Be7",
        "colab_type": "text"
      },
      "source": [
        "## Słowniki\n",
        "\n",
        "Słownik to kolekcja różnych elementów w którek każdy element ma klucz i odpowiadającą mu wartość.\n",
        "To tak mini baza danych."
      ]
    },
    {
      "cell_type": "code",
      "metadata": {
        "id": "11fd8Id40Be9",
        "colab_type": "code",
        "colab": {}
      },
      "source": [
        "slownik= {}  #pusty slownik\n",
        "slownik = dict()  #pusty slownik\n",
        "\n",
        "slownik = {\"klucz\": \"zmienna\", 2: 3, \"pi\": 3.14}\n",
        "slownik['klucz']"
      ],
      "execution_count": 0,
      "outputs": []
    },
    {
      "cell_type": "code",
      "metadata": {
        "id": "nIpN_uiB0BfF",
        "colab_type": "code",
        "colab": {}
      },
      "source": [
        "slownik[\"pi\"] = 3.15 #tak zmieniamy wartosc zmiennych w slowniku\n",
        "slownik['pi']"
      ],
      "execution_count": 0,
      "outputs": []
    },
    {
      "cell_type": "markdown",
      "metadata": {
        "id": "4prQP1Gz0BcX",
        "colab_type": "text"
      },
      "source": [
        "### Ćwiczenia e160\n",
        "\n",
        "Napisz listę zakupow z cenami produktów, a nastepnie policz i wyswietl całkowity koszt. \n",
        "> na przykład:   \n",
        "burak 2  \n",
        "kaczka 4.5    \n",
        "**total 6.5**\n"
      ]
    },
    {
      "cell_type": "code",
      "metadata": {
        "id": "0dv0l6S9xLtp",
        "colab_type": "code",
        "colab": {}
      },
      "source": [
        "zakupy = {'burak':2,\n",
        "          'kaczka':3,\n",
        "          'marchewka':8}\n",
        "\n",
        "total = zakupy['burak'] + zakupy['kaczka']\n",
        "\n",
        "print('total', total)\n",
        "\n",
        "total_2 = 0\n",
        "for key in zakupy:\n",
        "  total_2 += zakupy[key]\n",
        "\n",
        "print('total_2', total_2)"
      ],
      "execution_count": 0,
      "outputs": []
    },
    {
      "cell_type": "markdown",
      "metadata": {
        "id": "bYUidAU20BgJ",
        "colab_type": "text"
      },
      "source": [
        "# Moduły\n",
        "\n",
        "Moduły (biblioteki) to programy pythona które zawierają kodu (funkcje, klasy itp), który możemy wykorzystać.\n",
        "Najpierw jednak musimy je zaimportować po prostu używająć slowa 'import'.  \n",
        "Aby wykorzystać jakąś funkcję zdefiniowaną w zaimportowanym module,   musimy\n",
        "przed nazwą funkcji dołączyć nazwę modułu. "
      ]
    },
    {
      "cell_type": "code",
      "metadata": {
        "id": "mH4g90_l0BgK",
        "colab_type": "code",
        "colab": {}
      },
      "source": [
        "import random #modul z funkcjami związanymi z losowością (liczby losowe, losowy wybór elementów z listy itp.)\n",
        "\n",
        "losowa_liczba = random.randint(1, 100)\n",
        "print(losowa_liczba)"
      ],
      "execution_count": 0,
      "outputs": []
    },
    {
      "cell_type": "markdown",
      "metadata": {
        "colab_type": "text",
        "id": "XTugz_YkAI1a"
      },
      "source": [
        "### Ćwiczenia e210\n",
        "Swórz wirtualną kostkę do gry i zasymuluj dwa rzuty.\n"
      ]
    },
    {
      "cell_type": "code",
      "metadata": {
        "colab_type": "code",
        "id": "rvExwpmlAEoS",
        "colab": {}
      },
      "source": [
        "# ćwiczenie\n",
        "\n",
        "\n",
        "def kostka():\n",
        "  return random.randint(1,6)\n",
        "\n",
        "for i in range(3):\n",
        "  print(kostka())"
      ],
      "execution_count": 0,
      "outputs": []
    },
    {
      "cell_type": "markdown",
      "metadata": {
        "id": "NOL0gu7DO8Yh",
        "colab_type": "text"
      },
      "source": [
        "### Live exercise\n",
        "Napisz program do odgadywania liczby.\n",
        "> Program wylosuje liczbę z zakresu 1-100 i po uzystkaniu twojej odpowiedzi napisze, czy odpowiedź jest:\n",
        "- prawidłowa\n",
        "- za niska\n",
        "- za wysoka"
      ]
    },
    {
      "cell_type": "markdown",
      "metadata": {
        "id": "pGtpPGbw0Bgg",
        "colab_type": "text"
      },
      "source": [
        "# Zajęcia praktyczne"
      ]
    },
    {
      "cell_type": "markdown",
      "metadata": {
        "id": "Z8inm7yd0Bgi",
        "colab_type": "text"
      },
      "source": [
        "## Praca z plikami tekstowymi\n",
        "\n",
        "Praca z plikami w Pythonie jest bardzo prosta.  \n",
        "**open(name, mode)** zwraca obiekt z plikiem:\n",
        "- name - ścieżka do pliku\n",
        "- mode:  \n",
        "    'r' (read): otwieramy tylko do odczytu   \n",
        "    'w' (write): otwieramy tylko do pisania  \n",
        "    'a' (append): otwieramy do dopisywania (następne linijki)  "
      ]
    },
    {
      "cell_type": "code",
      "metadata": {
        "id": "MEbgelAZHXda",
        "colab_type": "code",
        "colab": {}
      },
      "source": [
        "!wget -O plik.txt https://www.w3.org/TR/PNG/iso_8859-1.txt "
      ],
      "execution_count": 0,
      "outputs": []
    },
    {
      "cell_type": "code",
      "metadata": {
        "scrolled": true,
        "id": "i6DHuN_Q0Bgj",
        "colab_type": "code",
        "colab": {}
      },
      "source": [
        "with open('plik.txt', 'r') as f:\n",
        "    read_data = f.read()\n",
        "    print(read_data)"
      ],
      "execution_count": 0,
      "outputs": []
    },
    {
      "cell_type": "code",
      "metadata": {
        "scrolled": true,
        "id": "RqzO_fDk0Bgr",
        "colab_type": "code",
        "colab": {}
      },
      "source": [
        "with open('plik.txt', 'r') as f:\n",
        "    for linia in f:\n",
        "        print(linia)\n",
        "        break"
      ],
      "execution_count": 0,
      "outputs": []
    },
    {
      "cell_type": "code",
      "metadata": {
        "id": "9Ct_e8A20Bg3",
        "colab_type": "code",
        "colab": {}
      },
      "source": [
        "with open('plik.txt', 'w') as f:\n",
        "  f.write('dziala to nasze pisanie, czy nie?')"
      ],
      "execution_count": 0,
      "outputs": []
    },
    {
      "cell_type": "code",
      "metadata": {
        "id": "Use2Bevj0Bg6",
        "colab_type": "code",
        "colab": {}
      },
      "source": [
        "with open('plik.txt','r') as f:\n",
        "    print(f.read())"
      ],
      "execution_count": 0,
      "outputs": []
    },
    {
      "cell_type": "markdown",
      "metadata": {
        "colab_type": "text",
        "id": "l5pWCOvo-03u"
      },
      "source": [
        "### Ćwiczenia e240\n",
        "\n",
        "Utwórz plik w ktorym w kolejnych liniach będą koledzy i po przecinku ich miejsce zamieszkania\n",
        "\n",
        ">oczekiwany rezultat:  \n",
        "**plik koledzy.txt**  \n",
        "*marek, krakow*   \n",
        "*antek, poznan*   \n",
        "*zdzisiek, bydgoszcz*  "
      ]
    },
    {
      "cell_type": "code",
      "metadata": {
        "colab_type": "code",
        "id": "nXeU-BSg_FjO",
        "colab": {}
      },
      "source": [
        "# ćwiczenie"
      ],
      "execution_count": 0,
      "outputs": []
    },
    {
      "cell_type": "markdown",
      "metadata": {
        "id": "cb6lenNHQOG4",
        "colab_type": "text"
      },
      "source": [
        "### Live exercise: plik z kolegami\n",
        "Write a program that reads input from a 'koledzy.txt' file your friends’ names and cities they live in.   \n",
        "Your program should store that in dictionary and calculate how many friends live in a given city.\n",
        "\n",
        ">oczekiwany rezultat:  \n",
        "input: antek  \n",
        "'warszawa'  \n",
        "input: krakow  \n",
        "'4 kolegow mieszka w krakowie'  "
      ]
    },
    {
      "cell_type": "code",
      "metadata": {
        "id": "ZZN5MIwDRtDo",
        "colab_type": "code",
        "colab": {}
      },
      "source": [
        "# ! pozwala przekazać komendę do wiersza poleceń komputera\n",
        "!ls  # ls w systemie linux wyświetla zawartość folderu w którym jesteśmy"
      ],
      "execution_count": 0,
      "outputs": []
    },
    {
      "cell_type": "code",
      "metadata": {
        "id": "wghrOQPMS9Py",
        "colab_type": "code",
        "colab": {}
      },
      "source": [
        "!cd sample_data # cd + nazwa folderu zmienia folder"
      ],
      "execution_count": 0,
      "outputs": []
    },
    {
      "cell_type": "markdown",
      "metadata": {
        "id": "QCKqhBgdHEmE",
        "colab_type": "text"
      },
      "source": [
        "## Praca z plikami"
      ]
    },
    {
      "cell_type": "code",
      "metadata": {
        "id": "Bj6WYOoo0mq9",
        "colab_type": "code",
        "colab": {}
      },
      "source": [
        "import os\n",
        "os.listdir()"
      ],
      "execution_count": 0,
      "outputs": []
    },
    {
      "cell_type": "code",
      "metadata": {
        "id": "2XjMx9GAOtC1",
        "colab_type": "code",
        "colab": {}
      },
      "source": [
        "# zmieniamy nazwy wszystkich plikow w folderze\n",
        "import os\n",
        "\n",
        "i = 1\n",
        "folder = '/content/sample_data/'\n",
        "\n",
        "for filename in os.listdir(folder):\n",
        "  plik = folder+filename\n",
        "  rozszerzenie = filename.split('.')[1]\n",
        "  new_name =\"kurs_\" + str(i)+'.'+ rozszerzenie\n",
        "  os.rename(plik, folder+new_name) \n",
        "  i += 1"
      ],
      "execution_count": 0,
      "outputs": []
    },
    {
      "cell_type": "code",
      "metadata": {
        "colab_type": "code",
        "id": "sxIwQRK1_JPd",
        "colab": {}
      },
      "source": [
        "# ćwiczenie"
      ],
      "execution_count": 0,
      "outputs": []
    },
    {
      "cell_type": "markdown",
      "metadata": {
        "id": "ZUtZQc8xKZCC",
        "colab_type": "text"
      },
      "source": [
        "### listing files"
      ]
    },
    {
      "cell_type": "code",
      "metadata": {
        "id": "dpxVsQ_oSCPo",
        "colab_type": "code",
        "colab": {}
      },
      "source": [
        "import os\n",
        "os.getcwd()"
      ],
      "execution_count": 0,
      "outputs": []
    },
    {
      "cell_type": "code",
      "metadata": {
        "id": "lIR4xab4XUkK",
        "colab_type": "code",
        "colab": {}
      },
      "source": [
        "os.mkdir('test')"
      ],
      "execution_count": 0,
      "outputs": []
    },
    {
      "cell_type": "code",
      "metadata": {
        "id": "a9I9dCbhXgUi",
        "colab_type": "code",
        "colab": {}
      },
      "source": [
        "!ls"
      ],
      "execution_count": 0,
      "outputs": []
    },
    {
      "cell_type": "code",
      "metadata": {
        "id": "dxe3m0ZDc7F9",
        "colab_type": "code",
        "colab": {}
      },
      "source": [
        "os.chdir('/content/sample_data')\n",
        "# starsza metoda - nie rekomendowana, ale bardzo prosta :-)\n",
        "os.listdir()"
      ],
      "execution_count": 0,
      "outputs": []
    },
    {
      "cell_type": "code",
      "metadata": {
        "id": "y4_kl3UhbFGC",
        "colab_type": "code",
        "colab": {}
      },
      "source": [
        "# List all files in a directory using scandir()\n",
        "os.chdir('/content')\n",
        "with os.scandir('.') as entries:\n",
        "    for entry in entries:\n",
        "      if entry.is_dir():\n",
        "          print('directory: ',entry.name)\n",
        "      if entry.is_file():\n",
        "          print('file: ',entry.name)"
      ],
      "execution_count": 0,
      "outputs": []
    },
    {
      "cell_type": "code",
      "metadata": {
        "id": "iWjnIG-gYMWp",
        "colab_type": "code",
        "colab": {}
      },
      "source": [
        "os.chdir('/content/sample_data')\n",
        "\n",
        "with os.scandir('.') as entries:\n",
        "    for entry in entries:\n",
        "        if entry.is_dir():\n",
        "          print('directory: ',entry)\n",
        "        if entry.is_file():\n",
        "          print('file: ',entry.name)"
      ],
      "execution_count": 0,
      "outputs": []
    },
    {
      "cell_type": "markdown",
      "metadata": {
        "id": "A4l_ReZFQMlN",
        "colab_type": "text"
      },
      "source": [
        "### moving folders"
      ]
    },
    {
      "cell_type": "code",
      "metadata": {
        "id": "3box8SgXLTla",
        "colab_type": "code",
        "colab": {}
      },
      "source": [
        "!pwd"
      ],
      "execution_count": 0,
      "outputs": []
    },
    {
      "cell_type": "code",
      "metadata": {
        "id": "2_PvUKsELcxM",
        "colab_type": "code",
        "colab": {}
      },
      "source": [
        "!ls"
      ],
      "execution_count": 0,
      "outputs": []
    },
    {
      "cell_type": "code",
      "metadata": {
        "id": "A7MCUh9bK8rt",
        "colab_type": "code",
        "colab": {}
      },
      "source": [
        "import shutil\n",
        "shutil.copytree('/content/sample_data/test', '/content' )"
      ],
      "execution_count": 0,
      "outputs": []
    },
    {
      "cell_type": "markdown",
      "metadata": {
        "id": "xEfqHIyax4Z8",
        "colab_type": "text"
      },
      "source": [
        "### bulk renaming file for 'for'"
      ]
    },
    {
      "cell_type": "code",
      "metadata": {
        "id": "OxiSFJvADF8A",
        "colab_type": "code",
        "colab": {}
      },
      "source": [
        "import glob\n",
        "# os.chdir('sample_data')\n",
        "plik = glob.glob('*.csv')\n",
        "\n",
        "plik"
      ],
      "execution_count": 0,
      "outputs": []
    },
    {
      "cell_type": "code",
      "metadata": {
        "id": "mLUtdRuuEbA8",
        "colab_type": "code",
        "colab": {}
      },
      "source": [
        "for i in range(9879689, 9879779):\n",
        "  with open('IMG'+str(i)+'.jpg', 'w') as f:\n",
        "    pass\n",
        "\n",
        "!ls"
      ],
      "execution_count": 0,
      "outputs": []
    },
    {
      "cell_type": "code",
      "metadata": {
        "id": "f5bJ80PxGZoV",
        "colab_type": "code",
        "colab": {}
      },
      "source": [
        "pliki_do_zmiany = glob.glob('IMG?????9[3-7].jpg')\n",
        "pliki_do_zmiany"
      ],
      "execution_count": 0,
      "outputs": []
    },
    {
      "cell_type": "code",
      "metadata": {
        "id": "4GGpzkyzHd7t",
        "colab_type": "code",
        "colab": {}
      },
      "source": [
        "for i, j in enumerate(pliki_do_zmiany, 100):\n",
        "  os.rename(j, 'wakacje'+str(i)+'.jpg')\n",
        "\n",
        "!ls  "
      ],
      "execution_count": 0,
      "outputs": []
    },
    {
      "cell_type": "markdown",
      "metadata": {
        "id": "-DC7KW2J1L3N",
        "colab_type": "text"
      },
      "source": [
        "# Biblioteka request i web API\n",
        "\n"
      ]
    },
    {
      "cell_type": "code",
      "metadata": {
        "id": "PpI0G5qsT0su",
        "colab_type": "code",
        "colab": {}
      },
      "source": [
        "import requests\n",
        "\n",
        "r = requests.get(\"https://api.adviceslip.com/advice\")\n",
        "content = r.json()\n",
        "print(content)"
      ],
      "execution_count": 0,
      "outputs": []
    },
    {
      "cell_type": "code",
      "metadata": {
        "id": "Q-gU_9PpRFWJ",
        "colab_type": "code",
        "colab": {}
      },
      "source": [
        "file = requests.get('http://helloworldbook3.com/data/message.txt')"
      ],
      "execution_count": 0,
      "outputs": []
    },
    {
      "cell_type": "code",
      "metadata": {
        "id": "r5EyL7_5RgBQ",
        "colab_type": "code",
        "colab": {}
      },
      "source": [
        "print(file.text)"
      ],
      "execution_count": 0,
      "outputs": []
    },
    {
      "cell_type": "markdown",
      "metadata": {
        "id": "0VGbtr-xFYz6",
        "colab_type": "text"
      },
      "source": [
        "### Ćwiczenia e190\n",
        "Napisz funkcję która zwróci żart z podanym jej słowem ze strony https://api.chucknorris.io/  \n",
        "\n",
        "**Opcjonalnie**, jeśli żartu nie ma, napisze, że żart z tym słowem nie istnieje."
      ]
    },
    {
      "cell_type": "markdown",
      "metadata": {
        "id": "WHYOTrMMzgHA",
        "colab_type": "text"
      },
      "source": [
        ""
      ]
    },
    {
      "cell_type": "code",
      "metadata": {
        "id": "dK93YQqQEcOO",
        "colab_type": "code",
        "colab": {}
      },
      "source": [
        "# ćwiczenie\n",
        "hint('e190', 1)"
      ],
      "execution_count": 0,
      "outputs": []
    },
    {
      "cell_type": "markdown",
      "metadata": {
        "id": "j7rxX9x7Cqq4",
        "colab_type": "text"
      },
      "source": [
        "### Ćwiczenia e170\n",
        "Używając API NBP (http://api.nbp.pl) wydrukuj kurs wybranej waluty z dzisiaj (symbol waluty, datę i  jej kurs)\n",
        "\n",
        ">oczekiwany rezultat:  \n",
        "'USD, 2020-04-02, 3.85'\n"
      ]
    },
    {
      "cell_type": "code",
      "metadata": {
        "colab_type": "code",
        "id": "Zx-6h3S4_OdJ",
        "colab": {}
      },
      "source": [
        "# ćwiczenie\n",
        "\n",
        "import requests\n",
        "odpowiedz = requests.get('http://api.nbp.pl/api/exchangerates/rates/a/{symbol waluty}/')\n",
        "odp = odpowiedz.json()"
      ],
      "execution_count": 0,
      "outputs": []
    },
    {
      "cell_type": "markdown",
      "metadata": {
        "colab_type": "text",
        "id": "o9Dndv-cdKKK"
      },
      "source": [
        "### Ćwiczenia e260\n",
        "Stwórz własnego psa i spraw, żeby pomachał ogonem\n"
      ]
    },
    {
      "cell_type": "code",
      "metadata": {
        "colab_type": "code",
        "id": "BrgR3G_R_NCV",
        "colab": {}
      },
      "source": [
        "# ćwiczenie"
      ],
      "execution_count": 0,
      "outputs": []
    },
    {
      "cell_type": "markdown",
      "metadata": {
        "colab_type": "text",
        "id": "Bkg-3MU6_cjO"
      },
      "source": [
        "# Egzamin końcowy e280\n",
        "\n",
        " Randomly generate a 4-digit number.  \n",
        " Ask the user to guess a 4-digit number. \n",
        "\n",
        "> For every digit that the user guessed correctly in the correct place, they have a “cow”.  \n",
        " For every digit the user guessed correctly in the wrong place is a “bull”  \n",
        " Every time the user makes a guess, tell them how many “cows” and “bulls” they have.  \n",
        " Once the user guesses the correct number, the game is over.  \n",
        "\n",
        " Keep track of the number of guesses the user makes throughout teh game and tell the user at the end.\n",
        "   \n",
        "** Say the number generated by the computer is 1038. An example interaction could look like this:** \n",
        "```\n",
        "   Welcome to the Cows and Bulls Game! \n",
        "   Enter a number: \n",
        "   >>> 1234\n",
        "   2 cows, 0 bulls\n",
        "   >>> 1256\n",
        "   1 cow, 1 bull\n",
        "   ...\n",
        "```"
      ]
    },
    {
      "cell_type": "code",
      "metadata": {
        "id": "8vdMPnEDUFUd",
        "colab_type": "code",
        "colab": {}
      },
      "source": [
        "# exercise"
      ],
      "execution_count": 0,
      "outputs": []
    }
  ]
}